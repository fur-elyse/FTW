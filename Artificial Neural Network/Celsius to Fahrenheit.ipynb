{
 "cells": [
  {
   "cell_type": "code",
   "execution_count": 1,
   "metadata": {},
   "outputs": [],
   "source": [
    "import tensorflow as tf\n",
    "import numpy as np\n",
    "import logging\n",
    "logger = tf.get_logger()\n",
    "logger.setLevel(logging.ERROR)"
   ]
  },
  {
   "cell_type": "code",
   "execution_count": 2,
   "metadata": {},
   "outputs": [
    {
     "name": "stdout",
     "output_type": "stream",
     "text": [
      "-40.0 degrees celsius == -40.0 degrees fahrenheit\n",
      "-10.0 degrees celsius == 14.0 degrees fahrenheit\n",
      "0.0 degrees celsius == 32.0 degrees fahrenheit\n",
      "8.0 degrees celsius == 46.0 degrees fahrenheit\n",
      "15.0 degrees celsius == 59.0 degrees fahrenheit\n",
      "22.0 degrees celsius == 72.0 degrees fahrenheit\n",
      "38.0 degrees celsius == 100.0 degrees fahrenheit\n"
     ]
    }
   ],
   "source": [
    "celsius_input = np.array([-40,-10,0,8,15,22,38],dtype=float)\n",
    "fahrenheit_output = np.array([-40,14,32,46,59,72,100],dtype=float)\n",
    "\n",
    "for i,c in enumerate(celsius_input):\n",
    "    print('{} degrees celsius == {} degrees fahrenheit'.format(c,fahrenheit_output[i]))"
   ]
  },
  {
   "cell_type": "markdown",
   "metadata": {},
   "source": [
    "### Machine Learning Terms\n",
    "**Feature** - is/are the input variable(s).\n",
    "**Labels** - is the output\n",
    "**Example** - comprises of the corresponding pair of feature and label"
   ]
  },
  {
   "cell_type": "code",
   "execution_count": 3,
   "metadata": {},
   "outputs": [],
   "source": [
    "l0 = tf.keras.layers.Dense(units = 1, input_shape=[1])"
   ]
  },
  {
   "cell_type": "code",
   "execution_count": 4,
   "metadata": {},
   "outputs": [],
   "source": [
    "model = tf.keras.Sequential([l0])"
   ]
  },
  {
   "cell_type": "code",
   "execution_count": 5,
   "metadata": {},
   "outputs": [],
   "source": [
    "model.compile(loss = 'mean_squared_error',optimizer=tf.keras.optimizers.Adam(0.1))"
   ]
  },
  {
   "cell_type": "code",
   "execution_count": 6,
   "metadata": {},
   "outputs": [
    {
     "name": "stdout",
     "output_type": "stream",
     "text": [
      "Finished training the model\n"
     ]
    }
   ],
   "source": [
    "test = model.fit(celsius_input,fahrenheit_output,epochs=500,verbose=False)\n",
    "print('Finished training the model')"
   ]
  },
  {
   "cell_type": "code",
   "execution_count": 12,
   "metadata": {},
   "outputs": [
    {
     "data": {
      "text/plain": [
       "[<matplotlib.lines.Line2D at 0x234b458a400>]"
      ]
     },
     "execution_count": 12,
     "metadata": {},
     "output_type": "execute_result"
    },
    {
     "data": {
      "image/png": "[encoded data removed]",
      "text/plain": [
       "<Figure size 432x288 with 1 Axes>"
      ]
     },
     "metadata": {
      "needs_background": "light"
     },
     "output_type": "display_data"
    }
   ],
   "source": [
    "import matplotlib.pyplot as plt\n",
    "plt.xlabel('Epoch Number')\n",
    "plt.ylabel('Loss Magnitude')\n",
    "plt.plot(test.history['loss'])"
   ]
  },
  {
   "cell_type": "code",
   "execution_count": 8,
   "metadata": {},
   "outputs": [
    {
     "name": "stdout",
     "output_type": "stream",
     "text": [
      "[[211.30612]]\n"
     ]
    }
   ],
   "source": [
    "print(model.predict([100.0]))"
   ]
  },
  {
   "cell_type": "code",
   "execution_count": 9,
   "metadata": {},
   "outputs": [
    {
     "name": "stdout",
     "output_type": "stream",
     "text": [
      "These are the layer variables: [array([[1.8248354]], dtype=float32), array([28.82258], dtype=float32)]\n"
     ]
    }
   ],
   "source": [
    "print('These are the layer variables: {}'.format(l0.get_weights()))"
   ]
  },
  {
   "cell_type": "markdown",
   "metadata": {},
   "source": [
    "## Try it out with 3 layers this time"
   ]
  },
  {
   "cell_type": "code",
   "execution_count": 10,
   "metadata": {},
   "outputs": [
    {
     "name": "stdout",
     "output_type": "stream",
     "text": [
      "Finished training the model\n",
      "[[211.74744]]\n",
      "These are the variables for layer 0: [array([[-0.53705114,  0.14403814,  0.67910236, -1.0008447 ]],\n",
      "      dtype=float32), array([ 0.9664631, -2.1508348, -1.1226186, -4.1977644], dtype=float32)]\n",
      "These are the variables for layer 1: [array([[ 0.26537967,  0.38715923,  0.7653511 ,  0.27988678],\n",
      "       [-0.21419254, -0.5828617 , -0.29496905, -1.1006306 ],\n",
      "       [-1.442451  , -0.31926733, -0.41978127,  0.06939872],\n",
      "       [-1.4090859 , -0.8381772 , -1.735553  , -1.2756394 ]],\n",
      "      dtype=float32), array([3.9849432, 1.9597101, 3.6915555, 3.9677508], dtype=float32)]\n",
      "These are the variables for layer 2: [array([[0.6597582 ],\n",
      "       [0.12793465],\n",
      "       [0.65999126],\n",
      "       [0.9132799 ]], dtype=float32), array([3.6098213], dtype=float32)]\n"
     ]
    }
   ],
   "source": [
    "l0 = tf.keras.layers.Dense(units = 4, input_shape=[1])\n",
    "l1 = tf.keras.layers.Dense(units = 4)\n",
    "l2 = tf.keras.layers.Dense(units = 1)\n",
    "model = tf.keras.Sequential([l0,l1,l2])\n",
    "model.compile(loss='mean_squared_error',optimizer=tf.keras.optimizers.Adam(0.1))\n",
    "hist = model.fit(celsius_input,fahrenheit_output,epochs=500,verbose=False)\n",
    "print('Finished training the model')\n",
    "print(model.predict([100.0]))\n",
    "print('These are the variables for layer 0: {}'.format(l0.get_weights()))\n",
    "print('These are the variables for layer 1: {}'.format(l1.get_weights()))\n",
    "print('These are the variables for layer 2: {}'.format(l2.get_weights()))"
   ]
  },
  {
   "cell_type": "code",
   "execution_count": 11,
   "metadata": {},
   "outputs": [
    {
     "data": {
      "text/plain": [
       "[<matplotlib.lines.Line2D at 0x234b451b1d0>]"
      ]
     },
     "execution_count": 11,
     "metadata": {},
     "output_type": "execute_result"
    },
    {
     "data": {
      "image/png": "[encoded data removed]",
      "text/plain": [
       "<Figure size 432x288 with 1 Axes>"
      ]
     },
     "metadata": {
      "needs_background": "light"
     },
     "output_type": "display_data"
    }
   ],
   "source": [
    "plt.plot(hist.history['loss'])"
   ]
  },
  {
   "cell_type": "code",
   "execution_count": null,
   "metadata": {},
   "outputs": [],
   "source": []
  }
 ],
 "metadata": {
  "kernelspec": {
   "display_name": "Python 3",
   "language": "python",
   "name": "python3"
  },
  "language_info": {
   "codemirror_mode": {
    "name": "ipython",
    "version": 3
   },
   "file_extension": ".py",
   "mimetype": "text/x-python",
   "name": "python",
   "nbconvert_exporter": "python",
   "pygments_lexer": "ipython3",
   "version": "3.7.3"
  }
 },
 "nbformat": 4,
 "nbformat_minor": 2
}
