{
 "cells": [
  {
   "cell_type": "code",
   "execution_count": 5,
   "metadata": {},
   "outputs": [],
   "source": [
    "from selenium import webdriver\n",
    "from selenium.webdriver.support.ui import WebDriverWait\n",
    "from selenium.webdriver.support import expected_conditions as EC\n",
    "from selenium.webdriver.common.by import By\n",
    "from selenium.common.exceptions import TimeoutException\n",
    "import pandas as pd\n",
    "import os\n",
    "\n",
    "import warnings\n",
    "warnings.filterwarnings('ignore')"
   ]
  },
  {
   "cell_type": "code",
   "execution_count": 6,
   "metadata": {},
   "outputs": [
    {
     "name": "stdout",
     "output_type": "stream",
     "text": [
      "Path to Driver is ..\\geckodriver.exe\n"
     ]
    }
   ],
   "source": [
    "filepath = '..\\geckodriver.exe'\n",
    "print('Path to Driver is '+filepath)"
   ]
  },
  {
   "cell_type": "code",
   "execution_count": 26,
   "metadata": {},
   "outputs": [],
   "source": [
    "browser=webdriver.Firefox(executable_path=filepath)\n",
    "df=pd.DataFrame()"
   ]
  },
  {
   "cell_type": "code",
   "execution_count": 49,
   "metadata": {},
   "outputs": [
    {
     "name": "stdout",
     "output_type": "stream",
     "text": [
      "page: 1\n",
      "page: 2\n",
      "page: 3\n",
      "page: 4\n",
      "page: 5\n",
      "page: 6\n",
      "page: 7\n",
      "page: 8\n",
      "page: 9\n",
      "page: 10\n",
      "page: 11\n",
      "page: 12\n",
      "page: 13\n",
      "page: 14\n",
      "page: 15\n",
      "page: 16\n",
      "page: 17\n",
      "page: 18\n",
      "page: 19\n",
      "page: 20\n",
      "page: 21\n",
      "page: 22\n",
      "page: 23\n",
      "page: 24\n",
      "page: 25\n",
      "page: 26\n",
      "page: 27\n",
      "page: 28\n",
      "done\n"
     ]
    }
   ],
   "source": [
    "final_page=28\n",
    "df=pd.DataFrame()\n",
    "\n",
    "for x in range(0,final_page):\n",
    "    browser.get('https://www.bdo.com.ph/properties-for-sale/vehicles?page='+str(x))\n",
    "    page = x + 1\n",
    "    print('page:',page)\n",
    "    \n",
    "    table=browser.find_element_by_xpath('/html/body/div[1]/div[8]/div[2]/div/div/div/div[1]/div/div/div/div[2]/div/div/div/div/div/div/div[2]/table/tbody')\n",
    "    try:\n",
    "        odd = table.find_elements_by_class_name('odd')\n",
    "        even = table.find_elements_by_class_name('even')\n",
    "        for o in odd:\n",
    "            try:\n",
    "                brand = o.find_element_by_class_name('views-field-field-vehicle-brand').text\n",
    "                model = o.find_element_by_class_name('views-field-field-generic-text-1').text\n",
    "                year = o.find_element_by_class_name('views-field-field-year').text\n",
    "                mileage = o.find_element_by_class_name('views-field-field-mileage-str').text\n",
    "                color = o.find_element_by_class_name('views-field-field-color').text\n",
    "                plate_no = o.find_element_by_class_name('views-field-field-plate').text\n",
    "                price = o.find_element_by_class_name('views-field-field-property-price').text\n",
    "                location = o.find_element_by_class_name('views-field-field-vehicle-location').text\n",
    "\n",
    "                record={'brand':brand,'model':model,'year':year,'mileage':mileage,'color':color,'plate_no':plate_no,'price':price,'location':location}\n",
    "                order_list = ['brand','model','year','mileage','color','plate_no','price','location']\n",
    "                df = df.append(record, ignore_index=True)\n",
    "                df = df[order_list]\n",
    "            except:\n",
    "                print('uh oh... I think I skipped something odd.')\n",
    "        for e in even:\n",
    "            try:\n",
    "                brand = e.find_element_by_class_name('views-field-field-vehicle-brand').text\n",
    "                model = e.find_element_by_class_name('views-field-field-generic-text-1').text\n",
    "                year = e.find_element_by_class_name('views-field-field-year').text\n",
    "                mileage = e.find_element_by_class_name('views-field-field-mileage-str').text\n",
    "                color = e.find_element_by_class_name('views-field-field-color').text\n",
    "                plate_no = e.find_element_by_class_name('views-field-field-plate').text\n",
    "                price = e.find_element_by_class_name('views-field-field-property-price').text\n",
    "                location = e.find_element_by_class_name('views-field-field-vehicle-location').text\n",
    "\n",
    "                record={'brand':brand,'model':model,'year':year,'mileage':mileage,'color':color,'plate_no':plate_no,'price':price,'location':location}\n",
    "                order_list = ['brand','model','year','mileage','color','plate_no','price','location']\n",
    "                df = df.append(record, ignore_index=True)\n",
    "                df = df[order_list]\n",
    "            except:\n",
    "                print('uh oh... I think I skipped something even.')\n",
    "    except:\n",
    "#         print('skipped')\n",
    "\n",
    "try:\n",
    "    savepath = \"../BDO Repossesed/bdo_car_details.csv\"\n",
    "    bdo = df.to_csv(savepath, index=None, header=False)\n",
    "    print('done')\n",
    "except Exception as e:\n",
    "    print (\"Export exception:\", e)"
   ]
  },
  {
   "cell_type": "code",
   "execution_count": null,
   "metadata": {},
   "outputs": [],
   "source": []
  }
 ],
 "metadata": {
  "kernelspec": {
   "display_name": "Python 3",
   "language": "python",
   "name": "python3"
  },
  "language_info": {
   "codemirror_mode": {
    "name": "ipython",
    "version": 3
   },
   "file_extension": ".py",
   "mimetype": "text/x-python",
   "name": "python",
   "nbconvert_exporter": "python",
   "pygments_lexer": "ipython3",
   "version": "3.7.3"
  }
 },
 "nbformat": 4,
 "nbformat_minor": 2
}
