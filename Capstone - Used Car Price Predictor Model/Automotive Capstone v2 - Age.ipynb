{
 "cells": [
  {
   "cell_type": "code",
   "execution_count": 1,
   "metadata": {},
   "outputs": [],
   "source": [
    "import pandas as pd\n",
    "from sklearn.neighbors import KNeighborsRegressor\n",
    "import matplotlib.pyplot as plt\n",
    "import seaborn as sns\n",
    "from scipy import stats\n",
    "from sklearn.linear_model import LinearRegression\n",
    "from datetime import date\n",
    "from dateutil.parser import parse\n",
    "import numpy as np\n",
    "from sklearn import preprocessing\n",
    "from sklearn import tree, metrics\n",
    "from sklearn.model_selection import train_test_split\n",
    "from sklearn.model_selection import cross_val_score\n",
    "import graphviz\n",
    "from sklearn.model_selection import GridSearchCV,RandomizedSearchCV\n",
    "\n",
    "%matplotlib inline\n",
    "\n",
    "import warnings\n",
    "warnings.filterwarnings('ignore')"
   ]
  },
  {
   "cell_type": "code",
   "execution_count": 2,
   "metadata": {},
   "outputs": [],
   "source": [
    "df = pd.read_csv('C:\\\\Users\\COBENA\\Desktop\\Learn\\Code\\FTW\\Capstone Idea\\Automotive\\Web Scraping/080119_pk and carmudi_complete.csv')"
   ]
  },
  {
   "cell_type": "markdown",
   "metadata": {},
   "source": [
    "## EDA"
   ]
  },
  {
   "cell_type": "code",
   "execution_count": 3,
   "metadata": {},
   "outputs": [],
   "source": [
    "final_df=df.copy()"
   ]
  },
  {
   "cell_type": "code",
   "execution_count": 4,
   "metadata": {},
   "outputs": [],
   "source": [
    "#replaced null color values as 'No Color'. Same for fuel type.\n",
    "final_df['Color Family']=final_df['Color Family'].fillna('No Color')\n",
    "final_df['Fuel Type']=final_df['Fuel Type'].fillna('No Fuel Type')"
   ]
  },
  {
   "cell_type": "code",
   "execution_count": 5,
   "metadata": {},
   "outputs": [
    {
     "data": {
      "text/html": [
       "<div>\n",
       "<style scoped>\n",
       "    .dataframe tbody tr th:only-of-type {\n",
       "        vertical-align: middle;\n",
       "    }\n",
       "\n",
       "    .dataframe tbody tr th {\n",
       "        vertical-align: top;\n",
       "    }\n",
       "\n",
       "    .dataframe thead th {\n",
       "        text-align: right;\n",
       "    }\n",
       "</style>\n",
       "<table border=\"1\" class=\"dataframe\">\n",
       "  <thead>\n",
       "    <tr style=\"text-align: right;\">\n",
       "      <th></th>\n",
       "      <th>ID</th>\n",
       "      <th>Title</th>\n",
       "      <th>Price</th>\n",
       "      <th>Brand</th>\n",
       "      <th>Model</th>\n",
       "      <th>Year of Manufacture</th>\n",
       "      <th>Used</th>\n",
       "      <th>Transmission</th>\n",
       "      <th>Color Family</th>\n",
       "      <th>Mileage (in km)</th>\n",
       "      <th>...</th>\n",
       "      <th>Description</th>\n",
       "      <th>Poster</th>\n",
       "      <th>Poster Type</th>\n",
       "      <th>Fuel Type</th>\n",
       "      <th>Location.2</th>\n",
       "      <th>Date Posted</th>\n",
       "      <th>name</th>\n",
       "      <th>retail</th>\n",
       "      <th>Post Age</th>\n",
       "      <th>age_of_car</th>\n",
       "    </tr>\n",
       "  </thead>\n",
       "  <tbody>\n",
       "    <tr>\n",
       "      <th>0</th>\n",
       "      <td>CAR000001</td>\n",
       "      <td>Red Chevrolet Cruze 2012 Automatic Gasoline fo...</td>\n",
       "      <td>299000</td>\n",
       "      <td>Chevrolet</td>\n",
       "      <td>Cruze</td>\n",
       "      <td>2012</td>\n",
       "      <td>Yes</td>\n",
       "      <td>Automatic</td>\n",
       "      <td>No Color</td>\n",
       "      <td>60000.0</td>\n",
       "      <td>...</td>\n",
       "      <td>Automatic Transmission Chevrolet Cruze 2012 - ...</td>\n",
       "      <td>Call_09154552229</td>\n",
       "      <td>Individual</td>\n",
       "      <td>Gasoline</td>\n",
       "      <td>Paranaque</td>\n",
       "      <td>43662</td>\n",
       "      <td>ChevroletCruze</td>\n",
       "      <td>858888</td>\n",
       "      <td>16</td>\n",
       "      <td>7</td>\n",
       "    </tr>\n",
       "    <tr>\n",
       "      <th>1</th>\n",
       "      <td>CAR000002</td>\n",
       "      <td>Sell Brown 2016 Chevrolet Captiva Automatic Di...</td>\n",
       "      <td>828000</td>\n",
       "      <td>Chevrolet</td>\n",
       "      <td>Captiva</td>\n",
       "      <td>2016</td>\n",
       "      <td>Yes</td>\n",
       "      <td>Automatic</td>\n",
       "      <td>Brown</td>\n",
       "      <td>NaN</td>\n",
       "      <td>...</td>\n",
       "      <td>2016 Chevrolet All New Captiva  VCDi 2.0 Turbo...</td>\n",
       "      <td>Bestcardealsph</td>\n",
       "      <td>Dealer</td>\n",
       "      <td>Diesel</td>\n",
       "      <td>Manila</td>\n",
       "      <td>43663</td>\n",
       "      <td>ChevroletCaptiva</td>\n",
       "      <td>1313888</td>\n",
       "      <td>15</td>\n",
       "      <td>3</td>\n",
       "    </tr>\n",
       "    <tr>\n",
       "      <th>2</th>\n",
       "      <td>CAR000003</td>\n",
       "      <td>Sell Used 2018 Chevrolet Sail Automatic at 600...</td>\n",
       "      <td>450000</td>\n",
       "      <td>Chevrolet</td>\n",
       "      <td>Sail</td>\n",
       "      <td>2018</td>\n",
       "      <td>Yes</td>\n",
       "      <td>Automatic</td>\n",
       "      <td>No Color</td>\n",
       "      <td>6000.0</td>\n",
       "      <td>...</td>\n",
       "      <td>2018 CHEVROLET SAIL Automatic Transmission 6tk...</td>\n",
       "      <td>jayjet</td>\n",
       "      <td>Individual</td>\n",
       "      <td>Gasoline</td>\n",
       "      <td>Quezon City</td>\n",
       "      <td>43806</td>\n",
       "      <td>ChevroletSail</td>\n",
       "      <td>791888</td>\n",
       "      <td>20</td>\n",
       "      <td>1</td>\n",
       "    </tr>\n",
       "    <tr>\n",
       "      <th>3</th>\n",
       "      <td>CAR000004</td>\n",
       "      <td>Sell 2nd Hand 2016 Chevrolet Sail at 6000 km i...</td>\n",
       "      <td>450000</td>\n",
       "      <td>Chevrolet</td>\n",
       "      <td>Sail</td>\n",
       "      <td>2016</td>\n",
       "      <td>Yes</td>\n",
       "      <td>Automatic</td>\n",
       "      <td>White</td>\n",
       "      <td>6000.0</td>\n",
       "      <td>...</td>\n",
       "      <td>2018 CHEVROLET SAIL Automatic Transmission 6tk...</td>\n",
       "      <td>jayjet</td>\n",
       "      <td>Individual</td>\n",
       "      <td>Gasoline</td>\n",
       "      <td>Quezon City</td>\n",
       "      <td>43806</td>\n",
       "      <td>ChevroletSail</td>\n",
       "      <td>791888</td>\n",
       "      <td>20</td>\n",
       "      <td>3</td>\n",
       "    </tr>\n",
       "    <tr>\n",
       "      <th>4</th>\n",
       "      <td>CAR000005</td>\n",
       "      <td>Used 2011 Chevrolet Captiva Automatic Diesel f...</td>\n",
       "      <td>468000</td>\n",
       "      <td>Chevrolet</td>\n",
       "      <td>Captiva</td>\n",
       "      <td>2011</td>\n",
       "      <td>Yes</td>\n",
       "      <td>Automatic</td>\n",
       "      <td>No Color</td>\n",
       "      <td>87000.0</td>\n",
       "      <td>...</td>\n",
       "      <td>2011 Chevrolet Captiva 4x2 AT Diesel Showroom ...</td>\n",
       "      <td>All Cars Manila by: Michael Millicent</td>\n",
       "      <td>Dealer</td>\n",
       "      <td>Diesel</td>\n",
       "      <td>Makati</td>\n",
       "      <td>43745</td>\n",
       "      <td>ChevroletCaptiva</td>\n",
       "      <td>1313888</td>\n",
       "      <td>22</td>\n",
       "      <td>8</td>\n",
       "    </tr>\n",
       "  </tbody>\n",
       "</table>\n",
       "<p>5 rows × 22 columns</p>\n",
       "</div>"
      ],
      "text/plain": [
       "          ID                                              Title   Price  \\\n",
       "0  CAR000001  Red Chevrolet Cruze 2012 Automatic Gasoline fo...  299000   \n",
       "1  CAR000002  Sell Brown 2016 Chevrolet Captiva Automatic Di...  828000   \n",
       "2  CAR000003  Sell Used 2018 Chevrolet Sail Automatic at 600...  450000   \n",
       "3  CAR000004  Sell 2nd Hand 2016 Chevrolet Sail at 6000 km i...  450000   \n",
       "4  CAR000005  Used 2011 Chevrolet Captiva Automatic Diesel f...  468000   \n",
       "\n",
       "       Brand    Model  Year of Manufacture Used Transmission Color Family  \\\n",
       "0  Chevrolet    Cruze                 2012  Yes    Automatic     No Color   \n",
       "1  Chevrolet  Captiva                 2016  Yes    Automatic        Brown   \n",
       "2  Chevrolet     Sail                 2018  Yes    Automatic     No Color   \n",
       "3  Chevrolet     Sail                 2016  Yes    Automatic        White   \n",
       "4  Chevrolet  Captiva                 2011  Yes    Automatic     No Color   \n",
       "\n",
       "   Mileage (in km)  ...                                        Description  \\\n",
       "0          60000.0  ...  Automatic Transmission Chevrolet Cruze 2012 - ...   \n",
       "1              NaN  ...  2016 Chevrolet All New Captiva  VCDi 2.0 Turbo...   \n",
       "2           6000.0  ...  2018 CHEVROLET SAIL Automatic Transmission 6tk...   \n",
       "3           6000.0  ...  2018 CHEVROLET SAIL Automatic Transmission 6tk...   \n",
       "4          87000.0  ...  2011 Chevrolet Captiva 4x2 AT Diesel Showroom ...   \n",
       "\n",
       "                                  Poster Poster Type Fuel Type   Location.2  \\\n",
       "0                       Call_09154552229  Individual  Gasoline    Paranaque   \n",
       "1                         Bestcardealsph      Dealer    Diesel       Manila   \n",
       "2                                 jayjet  Individual  Gasoline  Quezon City   \n",
       "3                                 jayjet  Individual  Gasoline  Quezon City   \n",
       "4  All Cars Manila by: Michael Millicent      Dealer    Diesel       Makati   \n",
       "\n",
       "  Date Posted              name   retail Post Age  age_of_car  \n",
       "0       43662    ChevroletCruze   858888       16           7  \n",
       "1       43663  ChevroletCaptiva  1313888       15           3  \n",
       "2       43806     ChevroletSail   791888       20           1  \n",
       "3       43806     ChevroletSail   791888       20           3  \n",
       "4       43745  ChevroletCaptiva  1313888       22           8  \n",
       "\n",
       "[5 rows x 22 columns]"
      ]
     },
     "execution_count": 5,
     "metadata": {},
     "output_type": "execute_result"
    }
   ],
   "source": [
    "final_df['age_of_car']=2019-final_df['Year of Manufacture']\n",
    "final_df.head()"
   ]
  },
  {
   "cell_type": "code",
   "execution_count": 6,
   "metadata": {},
   "outputs": [],
   "source": [
    "#deleted Poster, Version and Description\n",
    "final_df.drop(columns=['Poster','Version','Description','Title','Used','name','retail','Date Posted','Year of Manufacture'],inplace=True,axis=1)"
   ]
  },
  {
   "cell_type": "code",
   "execution_count": 7,
   "metadata": {},
   "outputs": [
    {
     "name": "stdout",
     "output_type": "stream",
     "text": [
      "<class 'pandas.core.frame.DataFrame'>\n",
      "RangeIndex: 20088 entries, 0 to 20087\n",
      "Data columns (total 13 columns):\n",
      "ID                 20088 non-null object\n",
      "Price              20088 non-null int64\n",
      "Brand              20088 non-null object\n",
      "Model              20088 non-null object\n",
      "Transmission       20088 non-null object\n",
      "Color Family       20088 non-null object\n",
      "Mileage (in km)    15562 non-null float64\n",
      "Body Type          20088 non-null object\n",
      "Poster Type        20088 non-null object\n",
      "Fuel Type          20088 non-null object\n",
      "Location.2         20088 non-null object\n",
      "Post Age           20088 non-null int64\n",
      "age_of_car         20088 non-null int64\n",
      "dtypes: float64(1), int64(3), object(9)\n",
      "memory usage: 2.0+ MB\n"
     ]
    }
   ],
   "source": [
    "final_df.info()"
   ]
  },
  {
   "cell_type": "code",
   "execution_count": 8,
   "metadata": {},
   "outputs": [
    {
     "data": {
      "text/html": [
       "<div>\n",
       "<style scoped>\n",
       "    .dataframe tbody tr th:only-of-type {\n",
       "        vertical-align: middle;\n",
       "    }\n",
       "\n",
       "    .dataframe tbody tr th {\n",
       "        vertical-align: top;\n",
       "    }\n",
       "\n",
       "    .dataframe thead th {\n",
       "        text-align: right;\n",
       "    }\n",
       "</style>\n",
       "<table border=\"1\" class=\"dataframe\">\n",
       "  <thead>\n",
       "    <tr style=\"text-align: right;\">\n",
       "      <th></th>\n",
       "      <th>Price</th>\n",
       "      <th>Mileage (in km)</th>\n",
       "      <th>Post Age</th>\n",
       "      <th>age_of_car</th>\n",
       "    </tr>\n",
       "  </thead>\n",
       "  <tbody>\n",
       "    <tr>\n",
       "      <th>count</th>\n",
       "      <td>2.008800e+04</td>\n",
       "      <td>1.556200e+04</td>\n",
       "      <td>20088.000000</td>\n",
       "      <td>20088.000000</td>\n",
       "    </tr>\n",
       "    <tr>\n",
       "      <th>mean</th>\n",
       "      <td>8.141697e+05</td>\n",
       "      <td>5.356116e+04</td>\n",
       "      <td>52.494524</td>\n",
       "      <td>6.521356</td>\n",
       "    </tr>\n",
       "    <tr>\n",
       "      <th>std</th>\n",
       "      <td>1.456741e+06</td>\n",
       "      <td>1.139158e+05</td>\n",
       "      <td>40.327707</td>\n",
       "      <td>5.719296</td>\n",
       "    </tr>\n",
       "    <tr>\n",
       "      <th>min</th>\n",
       "      <td>5.000000e+03</td>\n",
       "      <td>1.000000e+00</td>\n",
       "      <td>5.000000</td>\n",
       "      <td>-1.000000</td>\n",
       "    </tr>\n",
       "    <tr>\n",
       "      <th>25%</th>\n",
       "      <td>3.680000e+05</td>\n",
       "      <td>1.900000e+04</td>\n",
       "      <td>27.000000</td>\n",
       "      <td>2.000000</td>\n",
       "    </tr>\n",
       "    <tr>\n",
       "      <th>50%</th>\n",
       "      <td>5.680000e+05</td>\n",
       "      <td>4.316950e+04</td>\n",
       "      <td>37.000000</td>\n",
       "      <td>5.000000</td>\n",
       "    </tr>\n",
       "    <tr>\n",
       "      <th>75%</th>\n",
       "      <td>8.880000e+05</td>\n",
       "      <td>7.500000e+04</td>\n",
       "      <td>67.000000</td>\n",
       "      <td>9.000000</td>\n",
       "    </tr>\n",
       "    <tr>\n",
       "      <th>max</th>\n",
       "      <td>1.234568e+08</td>\n",
       "      <td>1.234568e+07</td>\n",
       "      <td>1017.000000</td>\n",
       "      <td>57.000000</td>\n",
       "    </tr>\n",
       "  </tbody>\n",
       "</table>\n",
       "</div>"
      ],
      "text/plain": [
       "              Price  Mileage (in km)      Post Age    age_of_car\n",
       "count  2.008800e+04     1.556200e+04  20088.000000  20088.000000\n",
       "mean   8.141697e+05     5.356116e+04     52.494524      6.521356\n",
       "std    1.456741e+06     1.139158e+05     40.327707      5.719296\n",
       "min    5.000000e+03     1.000000e+00      5.000000     -1.000000\n",
       "25%    3.680000e+05     1.900000e+04     27.000000      2.000000\n",
       "50%    5.680000e+05     4.316950e+04     37.000000      5.000000\n",
       "75%    8.880000e+05     7.500000e+04     67.000000      9.000000\n",
       "max    1.234568e+08     1.234568e+07   1017.000000     57.000000"
      ]
     },
     "execution_count": 8,
     "metadata": {},
     "output_type": "execute_result"
    }
   ],
   "source": [
    "final_df.describe()"
   ]
  },
  {
   "cell_type": "code",
   "execution_count": 9,
   "metadata": {},
   "outputs": [
    {
     "data": {
      "text/html": [
       "<div>\n",
       "<style scoped>\n",
       "    .dataframe tbody tr th:only-of-type {\n",
       "        vertical-align: middle;\n",
       "    }\n",
       "\n",
       "    .dataframe tbody tr th {\n",
       "        vertical-align: top;\n",
       "    }\n",
       "\n",
       "    .dataframe thead th {\n",
       "        text-align: right;\n",
       "    }\n",
       "</style>\n",
       "<table border=\"1\" class=\"dataframe\">\n",
       "  <thead>\n",
       "    <tr style=\"text-align: right;\">\n",
       "      <th></th>\n",
       "      <th>ID</th>\n",
       "      <th>Price</th>\n",
       "      <th>Brand</th>\n",
       "      <th>Model</th>\n",
       "      <th>Transmission</th>\n",
       "      <th>Color Family</th>\n",
       "      <th>Mileage (in km)</th>\n",
       "      <th>Body Type</th>\n",
       "      <th>Poster Type</th>\n",
       "      <th>Fuel Type</th>\n",
       "      <th>Location.2</th>\n",
       "      <th>Post Age</th>\n",
       "      <th>age_of_car</th>\n",
       "    </tr>\n",
       "  </thead>\n",
       "  <tbody>\n",
       "    <tr>\n",
       "      <th>0</th>\n",
       "      <td>CAR000001</td>\n",
       "      <td>299000</td>\n",
       "      <td>Chevrolet</td>\n",
       "      <td>Cruze</td>\n",
       "      <td>Automatic</td>\n",
       "      <td>No Color</td>\n",
       "      <td>60000.0</td>\n",
       "      <td>Saloon / Sedan</td>\n",
       "      <td>Individual</td>\n",
       "      <td>Gasoline</td>\n",
       "      <td>Paranaque</td>\n",
       "      <td>16</td>\n",
       "      <td>7</td>\n",
       "    </tr>\n",
       "    <tr>\n",
       "      <th>1</th>\n",
       "      <td>CAR000002</td>\n",
       "      <td>828000</td>\n",
       "      <td>Chevrolet</td>\n",
       "      <td>Captiva</td>\n",
       "      <td>Automatic</td>\n",
       "      <td>Brown</td>\n",
       "      <td>NaN</td>\n",
       "      <td>SUV</td>\n",
       "      <td>Dealer</td>\n",
       "      <td>Diesel</td>\n",
       "      <td>Manila</td>\n",
       "      <td>15</td>\n",
       "      <td>3</td>\n",
       "    </tr>\n",
       "    <tr>\n",
       "      <th>2</th>\n",
       "      <td>CAR000003</td>\n",
       "      <td>450000</td>\n",
       "      <td>Chevrolet</td>\n",
       "      <td>Sail</td>\n",
       "      <td>Automatic</td>\n",
       "      <td>No Color</td>\n",
       "      <td>6000.0</td>\n",
       "      <td>Saloon / Sedan</td>\n",
       "      <td>Individual</td>\n",
       "      <td>Gasoline</td>\n",
       "      <td>Quezon City</td>\n",
       "      <td>20</td>\n",
       "      <td>1</td>\n",
       "    </tr>\n",
       "    <tr>\n",
       "      <th>3</th>\n",
       "      <td>CAR000004</td>\n",
       "      <td>450000</td>\n",
       "      <td>Chevrolet</td>\n",
       "      <td>Sail</td>\n",
       "      <td>Automatic</td>\n",
       "      <td>White</td>\n",
       "      <td>6000.0</td>\n",
       "      <td>Saloon / Sedan</td>\n",
       "      <td>Individual</td>\n",
       "      <td>Gasoline</td>\n",
       "      <td>Quezon City</td>\n",
       "      <td>20</td>\n",
       "      <td>3</td>\n",
       "    </tr>\n",
       "    <tr>\n",
       "      <th>4</th>\n",
       "      <td>CAR000005</td>\n",
       "      <td>468000</td>\n",
       "      <td>Chevrolet</td>\n",
       "      <td>Captiva</td>\n",
       "      <td>Automatic</td>\n",
       "      <td>No Color</td>\n",
       "      <td>87000.0</td>\n",
       "      <td>SUV</td>\n",
       "      <td>Dealer</td>\n",
       "      <td>Diesel</td>\n",
       "      <td>Makati</td>\n",
       "      <td>22</td>\n",
       "      <td>8</td>\n",
       "    </tr>\n",
       "  </tbody>\n",
       "</table>\n",
       "</div>"
      ],
      "text/plain": [
       "          ID   Price      Brand    Model Transmission Color Family  \\\n",
       "0  CAR000001  299000  Chevrolet    Cruze    Automatic     No Color   \n",
       "1  CAR000002  828000  Chevrolet  Captiva    Automatic        Brown   \n",
       "2  CAR000003  450000  Chevrolet     Sail    Automatic     No Color   \n",
       "3  CAR000004  450000  Chevrolet     Sail    Automatic        White   \n",
       "4  CAR000005  468000  Chevrolet  Captiva    Automatic     No Color   \n",
       "\n",
       "   Mileage (in km)       Body Type Poster Type Fuel Type   Location.2  \\\n",
       "0          60000.0  Saloon / Sedan  Individual  Gasoline    Paranaque   \n",
       "1              NaN             SUV      Dealer    Diesel       Manila   \n",
       "2           6000.0  Saloon / Sedan  Individual  Gasoline  Quezon City   \n",
       "3           6000.0  Saloon / Sedan  Individual  Gasoline  Quezon City   \n",
       "4          87000.0             SUV      Dealer    Diesel       Makati   \n",
       "\n",
       "   Post Age  age_of_car  \n",
       "0        16           7  \n",
       "1        15           3  \n",
       "2        20           1  \n",
       "3        20           3  \n",
       "4        22           8  "
      ]
     },
     "execution_count": 9,
     "metadata": {},
     "output_type": "execute_result"
    }
   ],
   "source": [
    "final_df=final_df[final_df['age_of_car']>=0]\n",
    "final_df.head()"
   ]
  },
  {
   "cell_type": "markdown",
   "metadata": {},
   "source": [
    "## Check the Data Some More"
   ]
  },
  {
   "cell_type": "code",
   "execution_count": 10,
   "metadata": {},
   "outputs": [],
   "source": [
    "x=final_df['Mileage (in km)']\n",
    "y=final_df['age_of_car']"
   ]
  },
  {
   "cell_type": "code",
   "execution_count": 11,
   "metadata": {},
   "outputs": [],
   "source": [
    "x_val=final_df['Mileage (in km)'].loc[~final_df['Mileage (in km)'].isnull()]\n",
    "y_val=final_df['age_of_car'].loc[~final_df['Mileage (in km)'].isnull()]"
   ]
  },
  {
   "cell_type": "code",
   "execution_count": 12,
   "metadata": {},
   "outputs": [
    {
     "data": {
      "text/plain": [
       "(0, 1000000)"
      ]
     },
     "execution_count": 12,
     "metadata": {},
     "output_type": "execute_result"
    },
    {
     "data": {
      "image/png": "[encoded data removed]",
      "text/plain": [
       "<Figure size 432x288 with 1 Axes>"
      ]
     },
     "metadata": {
      "needs_background": "light"
     },
     "output_type": "display_data"
    }
   ],
   "source": [
    "sns.scatterplot(y,x,data=final_df)\n",
    "plt.ylim(0,1000000)"
   ]
  },
  {
   "cell_type": "code",
   "execution_count": 13,
   "metadata": {},
   "outputs": [
    {
     "data": {
      "text/plain": [
       "'\\nAge and mileage should be directly correlated\\nCheck normal distribution curve per brand\\n'"
      ]
     },
     "execution_count": 13,
     "metadata": {},
     "output_type": "execute_result"
    }
   ],
   "source": [
    "\"\"\"\n",
    "Age and mileage should be directly correlated\n",
    "Check normal distribution curve per brand\n",
    "\"\"\""
   ]
  },
  {
   "cell_type": "code",
   "execution_count": 14,
   "metadata": {},
   "outputs": [],
   "source": [
    "x_val_trim=x_val[x_val<700000]\n",
    "y_val_trim=y_val[x_val<700000]"
   ]
  },
  {
   "cell_type": "code",
   "execution_count": 15,
   "metadata": {},
   "outputs": [
    {
     "data": {
      "image/png": "[encoded data removed]",
      "text/plain": [
       "<Figure size 432x288 with 1 Axes>"
      ]
     },
     "metadata": {
      "needs_background": "light"
     },
     "output_type": "display_data"
    }
   ],
   "source": [
    "sns.regplot(y_val_trim,x_val_trim,data=final_df)\n",
    "slope, intercept, r_value, p_value, std_err = stats.linregress(y_val_trim,x_val_trim)"
   ]
  },
  {
   "cell_type": "code",
   "execution_count": 16,
   "metadata": {},
   "outputs": [
    {
     "name": "stdout",
     "output_type": "stream",
     "text": [
      "5663.0024924234385\n",
      "0.0\n"
     ]
    }
   ],
   "source": [
    "print(slope)\n",
    "print(p_value)"
   ]
  },
  {
   "cell_type": "markdown",
   "metadata": {},
   "source": [
    "## Impute Mileage Using KNN"
   ]
  },
  {
   "cell_type": "code",
   "execution_count": 17,
   "metadata": {},
   "outputs": [],
   "source": [
    "X=pd.DataFrame(final_df['age_of_car'].loc[final_df['Mileage (in km)'].notnull()])\n",
    "X_null=pd.DataFrame(final_df['age_of_car'].loc[final_df['Mileage (in km)'].isnull()])\n",
    "y=pd.DataFrame(final_df['Mileage (in km)'].loc[final_df['Mileage (in km)'].notnull()])\n",
    "y_null=pd.DataFrame(final_df['Mileage (in km)'].loc[final_df['Mileage (in km)'].isnull()])"
   ]
  },
  {
   "cell_type": "code",
   "execution_count": 18,
   "metadata": {},
   "outputs": [],
   "source": [
    "#might have to double check the neighbors\n",
    "clf=KNeighborsRegressor(3,weights='distance')\n",
    "trained_model=clf.fit(X,y)"
   ]
  },
  {
   "cell_type": "code",
   "execution_count": 19,
   "metadata": {},
   "outputs": [],
   "source": [
    "#predicting imputed values and setting the index to match the X_null dataframe\n",
    "imputed_val=pd.DataFrame(trained_model.predict(X_null),columns=['Mileage (in km)'])\n",
    "X_null.reset_index(inplace=True)"
   ]
  },
  {
   "cell_type": "code",
   "execution_count": 20,
   "metadata": {},
   "outputs": [],
   "source": [
    "#merge imputed values with your Yr of Manufacture pair\n",
    "null_merged=pd.merge(X_null,imputed_val,how='outer',on=X_null.index)\n",
    "null_merged.drop('key_0',inplace=True,axis=1)\n",
    "#index of Yr of Manufacture is set as the index\n",
    "null_merged.set_index('index',inplace=True)\n",
    "#null_merged.rename_axis(index=None).head()"
   ]
  },
  {
   "cell_type": "code",
   "execution_count": 21,
   "metadata": {},
   "outputs": [
    {
     "data": {
      "text/html": [
       "<div>\n",
       "<style scoped>\n",
       "    .dataframe tbody tr th:only-of-type {\n",
       "        vertical-align: middle;\n",
       "    }\n",
       "\n",
       "    .dataframe tbody tr th {\n",
       "        vertical-align: top;\n",
       "    }\n",
       "\n",
       "    .dataframe thead th {\n",
       "        text-align: right;\n",
       "    }\n",
       "</style>\n",
       "<table border=\"1\" class=\"dataframe\">\n",
       "  <thead>\n",
       "    <tr style=\"text-align: right;\">\n",
       "      <th></th>\n",
       "      <th>age_of_car</th>\n",
       "      <th>Mileage (in km)</th>\n",
       "    </tr>\n",
       "  </thead>\n",
       "  <tbody>\n",
       "    <tr>\n",
       "      <th>0</th>\n",
       "      <td>7</td>\n",
       "      <td>60000.0</td>\n",
       "    </tr>\n",
       "    <tr>\n",
       "      <th>1</th>\n",
       "      <td>3</td>\n",
       "      <td>10388.0</td>\n",
       "    </tr>\n",
       "    <tr>\n",
       "      <th>2</th>\n",
       "      <td>1</td>\n",
       "      <td>6000.0</td>\n",
       "    </tr>\n",
       "    <tr>\n",
       "      <th>3</th>\n",
       "      <td>3</td>\n",
       "      <td>6000.0</td>\n",
       "    </tr>\n",
       "    <tr>\n",
       "      <th>4</th>\n",
       "      <td>8</td>\n",
       "      <td>87000.0</td>\n",
       "    </tr>\n",
       "  </tbody>\n",
       "</table>\n",
       "</div>"
      ],
      "text/plain": [
       "   age_of_car  Mileage (in km)\n",
       "0           7          60000.0\n",
       "1           3          10388.0\n",
       "2           1           6000.0\n",
       "3           3           6000.0\n",
       "4           8          87000.0"
      ]
     },
     "execution_count": 21,
     "metadata": {},
     "output_type": "execute_result"
    }
   ],
   "source": [
    "# merged them all together (Yr of Manufacture and Mileage)\n",
    "xy_merged=pd.concat([X,y],axis=1)\n",
    "merged_df=pd.concat([null_merged,xy_merged],axis=0)\n",
    "merged_df=merged_df.sort_index()\n",
    "merged_df.head()"
   ]
  },
  {
   "cell_type": "code",
   "execution_count": 22,
   "metadata": {},
   "outputs": [
    {
     "name": "stdout",
     "output_type": "stream",
     "text": [
      "<class 'pandas.core.frame.DataFrame'>\n",
      "Int64Index: 20079 entries, 0 to 20087\n",
      "Data columns (total 2 columns):\n",
      "age_of_car         20079 non-null int64\n",
      "Mileage (in km)    20079 non-null float64\n",
      "dtypes: float64(1), int64(1)\n",
      "memory usage: 470.6 KB\n"
     ]
    }
   ],
   "source": [
    "merged_df.info()"
   ]
  },
  {
   "cell_type": "code",
   "execution_count": 23,
   "metadata": {},
   "outputs": [
    {
     "data": {
      "text/html": [
       "<div>\n",
       "<style scoped>\n",
       "    .dataframe tbody tr th:only-of-type {\n",
       "        vertical-align: middle;\n",
       "    }\n",
       "\n",
       "    .dataframe tbody tr th {\n",
       "        vertical-align: top;\n",
       "    }\n",
       "\n",
       "    .dataframe thead th {\n",
       "        text-align: right;\n",
       "    }\n",
       "</style>\n",
       "<table border=\"1\" class=\"dataframe\">\n",
       "  <thead>\n",
       "    <tr style=\"text-align: right;\">\n",
       "      <th></th>\n",
       "      <th>id</th>\n",
       "      <th>price</th>\n",
       "      <th>brand</th>\n",
       "      <th>model</th>\n",
       "      <th>transmission</th>\n",
       "      <th>color</th>\n",
       "      <th>body_type</th>\n",
       "      <th>poster_type</th>\n",
       "      <th>fuel_type</th>\n",
       "      <th>location</th>\n",
       "      <th>post_age_in_days</th>\n",
       "      <th>age_of_car</th>\n",
       "      <th>mileage_in_km</th>\n",
       "    </tr>\n",
       "  </thead>\n",
       "  <tbody>\n",
       "    <tr>\n",
       "      <th>0</th>\n",
       "      <td>CAR000001</td>\n",
       "      <td>299000</td>\n",
       "      <td>Chevrolet</td>\n",
       "      <td>Cruze</td>\n",
       "      <td>Automatic</td>\n",
       "      <td>No Color</td>\n",
       "      <td>Saloon / Sedan</td>\n",
       "      <td>Individual</td>\n",
       "      <td>Gasoline</td>\n",
       "      <td>Paranaque</td>\n",
       "      <td>16</td>\n",
       "      <td>7</td>\n",
       "      <td>60000.0</td>\n",
       "    </tr>\n",
       "    <tr>\n",
       "      <th>1</th>\n",
       "      <td>CAR000002</td>\n",
       "      <td>828000</td>\n",
       "      <td>Chevrolet</td>\n",
       "      <td>Captiva</td>\n",
       "      <td>Automatic</td>\n",
       "      <td>Brown</td>\n",
       "      <td>SUV</td>\n",
       "      <td>Dealer</td>\n",
       "      <td>Diesel</td>\n",
       "      <td>Manila</td>\n",
       "      <td>15</td>\n",
       "      <td>3</td>\n",
       "      <td>10388.0</td>\n",
       "    </tr>\n",
       "    <tr>\n",
       "      <th>2</th>\n",
       "      <td>CAR000003</td>\n",
       "      <td>450000</td>\n",
       "      <td>Chevrolet</td>\n",
       "      <td>Sail</td>\n",
       "      <td>Automatic</td>\n",
       "      <td>No Color</td>\n",
       "      <td>Saloon / Sedan</td>\n",
       "      <td>Individual</td>\n",
       "      <td>Gasoline</td>\n",
       "      <td>Quezon City</td>\n",
       "      <td>20</td>\n",
       "      <td>1</td>\n",
       "      <td>6000.0</td>\n",
       "    </tr>\n",
       "    <tr>\n",
       "      <th>3</th>\n",
       "      <td>CAR000004</td>\n",
       "      <td>450000</td>\n",
       "      <td>Chevrolet</td>\n",
       "      <td>Sail</td>\n",
       "      <td>Automatic</td>\n",
       "      <td>White</td>\n",
       "      <td>Saloon / Sedan</td>\n",
       "      <td>Individual</td>\n",
       "      <td>Gasoline</td>\n",
       "      <td>Quezon City</td>\n",
       "      <td>20</td>\n",
       "      <td>3</td>\n",
       "      <td>6000.0</td>\n",
       "    </tr>\n",
       "    <tr>\n",
       "      <th>4</th>\n",
       "      <td>CAR000005</td>\n",
       "      <td>468000</td>\n",
       "      <td>Chevrolet</td>\n",
       "      <td>Captiva</td>\n",
       "      <td>Automatic</td>\n",
       "      <td>No Color</td>\n",
       "      <td>SUV</td>\n",
       "      <td>Dealer</td>\n",
       "      <td>Diesel</td>\n",
       "      <td>Makati</td>\n",
       "      <td>22</td>\n",
       "      <td>8</td>\n",
       "      <td>87000.0</td>\n",
       "    </tr>\n",
       "  </tbody>\n",
       "</table>\n",
       "</div>"
      ],
      "text/plain": [
       "          id   price      brand    model transmission     color  \\\n",
       "0  CAR000001  299000  Chevrolet    Cruze    Automatic  No Color   \n",
       "1  CAR000002  828000  Chevrolet  Captiva    Automatic     Brown   \n",
       "2  CAR000003  450000  Chevrolet     Sail    Automatic  No Color   \n",
       "3  CAR000004  450000  Chevrolet     Sail    Automatic     White   \n",
       "4  CAR000005  468000  Chevrolet  Captiva    Automatic  No Color   \n",
       "\n",
       "        body_type poster_type fuel_type     location  post_age_in_days  \\\n",
       "0  Saloon / Sedan  Individual  Gasoline    Paranaque                16   \n",
       "1             SUV      Dealer    Diesel       Manila                15   \n",
       "2  Saloon / Sedan  Individual  Gasoline  Quezon City                20   \n",
       "3  Saloon / Sedan  Individual  Gasoline  Quezon City                20   \n",
       "4             SUV      Dealer    Diesel       Makati                22   \n",
       "\n",
       "   age_of_car  mileage_in_km  \n",
       "0           7        60000.0  \n",
       "1           3        10388.0  \n",
       "2           1         6000.0  \n",
       "3           3         6000.0  \n",
       "4           8        87000.0  "
      ]
     },
     "execution_count": 23,
     "metadata": {},
     "output_type": "execute_result"
    }
   ],
   "source": [
    "#merge it with the whole df\n",
    "total_merge=pd.merge(final_df,merged_df,on=final_df.index)\n",
    "total_merge.drop(['age_of_car_x','Mileage (in km)_x','key_0'],axis=1,inplace=True)\n",
    "total_merge.columns=['id','price','brand','model','transmission','color','body_type','poster_type','fuel_type','location','post_age_in_days','age_of_car','mileage_in_km']\n",
    "total_merge.head()"
   ]
  },
  {
   "cell_type": "markdown",
   "metadata": {},
   "source": [
    "## Time to change categorical values to numerical..."
   ]
  },
  {
   "cell_type": "code",
   "execution_count": 24,
   "metadata": {},
   "outputs": [
    {
     "name": "stdout",
     "output_type": "stream",
     "text": [
      "<class 'pandas.core.frame.DataFrame'>\n",
      "Int64Index: 20079 entries, 0 to 20078\n",
      "Data columns (total 13 columns):\n",
      "id                  20079 non-null object\n",
      "price               20079 non-null int64\n",
      "brand               20079 non-null object\n",
      "model               20079 non-null object\n",
      "transmission        20079 non-null object\n",
      "color               20079 non-null object\n",
      "body_type           20079 non-null object\n",
      "poster_type         20079 non-null object\n",
      "fuel_type           20079 non-null object\n",
      "location            20079 non-null object\n",
      "post_age_in_days    20079 non-null int64\n",
      "age_of_car          20079 non-null int64\n",
      "mileage_in_km       20079 non-null float64\n",
      "dtypes: float64(1), int64(3), object(9)\n",
      "memory usage: 2.1+ MB\n"
     ]
    }
   ],
   "source": [
    "total_merge.info()"
   ]
  },
  {
   "cell_type": "code",
   "execution_count": 25,
   "metadata": {},
   "outputs": [],
   "source": [
    "le = preprocessing.LabelEncoder()"
   ]
  },
  {
   "cell_type": "code",
   "execution_count": 26,
   "metadata": {},
   "outputs": [],
   "source": [
    "# tm_col = ['brand','model','transmission','color','body_type','poster_type','fuel_type','location']\n",
    "# le_classes = {}\n",
    "# for col in tm_col:\n",
    "#     total_merge[col]=le.fit_transform(total_merge[col])\n",
    "#     le_classes.update({col: le.classes_})"
   ]
  },
  {
   "cell_type": "code",
   "execution_count": 27,
   "metadata": {},
   "outputs": [],
   "source": [
    "tm_col = ['brand','model','transmission','color','body_type','poster_type','fuel_type','location']\n",
    "le_classes = {}\n",
    "for col in tm_col:\n",
    "    total_merge[col]=le.fit_transform(total_merge[col])\n",
    "    le_classes.update({col: {le.classes_[n]:n for n in range(len(le.classes_))}})"
   ]
  },
  {
   "cell_type": "code",
   "execution_count": 28,
   "metadata": {},
   "outputs": [
    {
     "data": {
      "text/html": [
       "<div>\n",
       "<style scoped>\n",
       "    .dataframe tbody tr th:only-of-type {\n",
       "        vertical-align: middle;\n",
       "    }\n",
       "\n",
       "    .dataframe tbody tr th {\n",
       "        vertical-align: top;\n",
       "    }\n",
       "\n",
       "    .dataframe thead th {\n",
       "        text-align: right;\n",
       "    }\n",
       "</style>\n",
       "<table border=\"1\" class=\"dataframe\">\n",
       "  <thead>\n",
       "    <tr style=\"text-align: right;\">\n",
       "      <th></th>\n",
       "      <th>price</th>\n",
       "      <th>brand</th>\n",
       "      <th>model</th>\n",
       "      <th>transmission</th>\n",
       "      <th>color</th>\n",
       "      <th>body_type</th>\n",
       "      <th>poster_type</th>\n",
       "      <th>fuel_type</th>\n",
       "      <th>location</th>\n",
       "      <th>post_age_in_days</th>\n",
       "      <th>age_of_car</th>\n",
       "      <th>mileage_in_km</th>\n",
       "    </tr>\n",
       "  </thead>\n",
       "  <tbody>\n",
       "    <tr>\n",
       "      <th>CAR000001</th>\n",
       "      <td>299000</td>\n",
       "      <td>7</td>\n",
       "      <td>180</td>\n",
       "      <td>1</td>\n",
       "      <td>10</td>\n",
       "      <td>6</td>\n",
       "      <td>1</td>\n",
       "      <td>2</td>\n",
       "      <td>303</td>\n",
       "      <td>16</td>\n",
       "      <td>7</td>\n",
       "      <td>60000.0</td>\n",
       "    </tr>\n",
       "    <tr>\n",
       "      <th>CAR000002</th>\n",
       "      <td>828000</td>\n",
       "      <td>7</td>\n",
       "      <td>146</td>\n",
       "      <td>1</td>\n",
       "      <td>4</td>\n",
       "      <td>5</td>\n",
       "      <td>0</td>\n",
       "      <td>0</td>\n",
       "      <td>254</td>\n",
       "      <td>15</td>\n",
       "      <td>3</td>\n",
       "      <td>10388.0</td>\n",
       "    </tr>\n",
       "    <tr>\n",
       "      <th>CAR000003</th>\n",
       "      <td>450000</td>\n",
       "      <td>7</td>\n",
       "      <td>441</td>\n",
       "      <td>1</td>\n",
       "      <td>10</td>\n",
       "      <td>6</td>\n",
       "      <td>1</td>\n",
       "      <td>2</td>\n",
       "      <td>328</td>\n",
       "      <td>20</td>\n",
       "      <td>1</td>\n",
       "      <td>6000.0</td>\n",
       "    </tr>\n",
       "    <tr>\n",
       "      <th>CAR000004</th>\n",
       "      <td>450000</td>\n",
       "      <td>7</td>\n",
       "      <td>441</td>\n",
       "      <td>1</td>\n",
       "      <td>21</td>\n",
       "      <td>6</td>\n",
       "      <td>1</td>\n",
       "      <td>2</td>\n",
       "      <td>328</td>\n",
       "      <td>20</td>\n",
       "      <td>3</td>\n",
       "      <td>6000.0</td>\n",
       "    </tr>\n",
       "    <tr>\n",
       "      <th>CAR000005</th>\n",
       "      <td>468000</td>\n",
       "      <td>7</td>\n",
       "      <td>146</td>\n",
       "      <td>1</td>\n",
       "      <td>10</td>\n",
       "      <td>5</td>\n",
       "      <td>0</td>\n",
       "      <td>0</td>\n",
       "      <td>239</td>\n",
       "      <td>22</td>\n",
       "      <td>8</td>\n",
       "      <td>87000.0</td>\n",
       "    </tr>\n",
       "  </tbody>\n",
       "</table>\n",
       "</div>"
      ],
      "text/plain": [
       "            price  brand  model  transmission  color  body_type  poster_type  \\\n",
       "CAR000001  299000      7    180             1     10          6            1   \n",
       "CAR000002  828000      7    146             1      4          5            0   \n",
       "CAR000003  450000      7    441             1     10          6            1   \n",
       "CAR000004  450000      7    441             1     21          6            1   \n",
       "CAR000005  468000      7    146             1     10          5            0   \n",
       "\n",
       "           fuel_type  location  post_age_in_days  age_of_car  mileage_in_km  \n",
       "CAR000001          2       303                16           7        60000.0  \n",
       "CAR000002          0       254                15           3        10388.0  \n",
       "CAR000003          2       328                20           1         6000.0  \n",
       "CAR000004          2       328                20           3         6000.0  \n",
       "CAR000005          0       239                22           8        87000.0  "
      ]
     },
     "execution_count": 28,
     "metadata": {},
     "output_type": "execute_result"
    }
   ],
   "source": [
    "total_merge.set_index('id',inplace=True)\n",
    "total_merge.rename_axis(index=None,inplace=True)\n",
    "total_merge.head()"
   ]
  },
  {
   "cell_type": "code",
   "execution_count": 29,
   "metadata": {},
   "outputs": [],
   "source": [
    "final_df=total_merge.copy()"
   ]
  },
  {
   "cell_type": "code",
   "execution_count": 30,
   "metadata": {},
   "outputs": [],
   "source": [
    "final_df.to_csv(\"capstone_dataset.csv\")"
   ]
  },
  {
   "cell_type": "markdown",
   "metadata": {},
   "source": [
    "## Maybe we can try imputing Mileage using median... Next time na lang haha"
   ]
  },
  {
   "cell_type": "code",
   "execution_count": 31,
   "metadata": {},
   "outputs": [],
   "source": [
    "#final_df['mileage_in_km'].fillna(final_df.groupby('year_of_manufacture')['mileage_in_km'].transform('median'),inplace=True)"
   ]
  },
  {
   "cell_type": "code",
   "execution_count": 32,
   "metadata": {},
   "outputs": [],
   "source": [
    "#final_df['mileage_in_km'].fillna(final_df['mileage_in_km'].median(),inplace=True)"
   ]
  },
  {
   "cell_type": "code",
   "execution_count": 33,
   "metadata": {},
   "outputs": [],
   "source": [
    "#final_df[['mileage_in_km']].head()"
   ]
  },
  {
   "cell_type": "markdown",
   "metadata": {},
   "source": [
    "## Model"
   ]
  },
  {
   "cell_type": "markdown",
   "metadata": {},
   "source": [
    "## It's time for Decision Trees?! So we know how they split </3"
   ]
  },
  {
   "cell_type": "code",
   "execution_count": 34,
   "metadata": {},
   "outputs": [],
   "source": [
    "X=final_df.drop(['price'],axis=1)\n",
    "y=final_df['price']"
   ]
  },
  {
   "cell_type": "code",
   "execution_count": 35,
   "metadata": {},
   "outputs": [
    {
     "data": {
      "text/html": [
       "<div>\n",
       "<style scoped>\n",
       "    .dataframe tbody tr th:only-of-type {\n",
       "        vertical-align: middle;\n",
       "    }\n",
       "\n",
       "    .dataframe tbody tr th {\n",
       "        vertical-align: top;\n",
       "    }\n",
       "\n",
       "    .dataframe thead th {\n",
       "        text-align: right;\n",
       "    }\n",
       "</style>\n",
       "<table border=\"1\" class=\"dataframe\">\n",
       "  <thead>\n",
       "    <tr style=\"text-align: right;\">\n",
       "      <th></th>\n",
       "      <th>brand</th>\n",
       "      <th>model</th>\n",
       "      <th>transmission</th>\n",
       "      <th>color</th>\n",
       "      <th>body_type</th>\n",
       "      <th>poster_type</th>\n",
       "      <th>fuel_type</th>\n",
       "      <th>location</th>\n",
       "      <th>post_age_in_days</th>\n",
       "      <th>age_of_car</th>\n",
       "      <th>mileage_in_km</th>\n",
       "    </tr>\n",
       "  </thead>\n",
       "  <tbody>\n",
       "    <tr>\n",
       "      <th>CAR000001</th>\n",
       "      <td>7</td>\n",
       "      <td>180</td>\n",
       "      <td>1</td>\n",
       "      <td>10</td>\n",
       "      <td>6</td>\n",
       "      <td>1</td>\n",
       "      <td>2</td>\n",
       "      <td>303</td>\n",
       "      <td>16</td>\n",
       "      <td>7</td>\n",
       "      <td>60000.0</td>\n",
       "    </tr>\n",
       "    <tr>\n",
       "      <th>CAR000002</th>\n",
       "      <td>7</td>\n",
       "      <td>146</td>\n",
       "      <td>1</td>\n",
       "      <td>4</td>\n",
       "      <td>5</td>\n",
       "      <td>0</td>\n",
       "      <td>0</td>\n",
       "      <td>254</td>\n",
       "      <td>15</td>\n",
       "      <td>3</td>\n",
       "      <td>10388.0</td>\n",
       "    </tr>\n",
       "    <tr>\n",
       "      <th>CAR000003</th>\n",
       "      <td>7</td>\n",
       "      <td>441</td>\n",
       "      <td>1</td>\n",
       "      <td>10</td>\n",
       "      <td>6</td>\n",
       "      <td>1</td>\n",
       "      <td>2</td>\n",
       "      <td>328</td>\n",
       "      <td>20</td>\n",
       "      <td>1</td>\n",
       "      <td>6000.0</td>\n",
       "    </tr>\n",
       "    <tr>\n",
       "      <th>CAR000004</th>\n",
       "      <td>7</td>\n",
       "      <td>441</td>\n",
       "      <td>1</td>\n",
       "      <td>21</td>\n",
       "      <td>6</td>\n",
       "      <td>1</td>\n",
       "      <td>2</td>\n",
       "      <td>328</td>\n",
       "      <td>20</td>\n",
       "      <td>3</td>\n",
       "      <td>6000.0</td>\n",
       "    </tr>\n",
       "    <tr>\n",
       "      <th>CAR000005</th>\n",
       "      <td>7</td>\n",
       "      <td>146</td>\n",
       "      <td>1</td>\n",
       "      <td>10</td>\n",
       "      <td>5</td>\n",
       "      <td>0</td>\n",
       "      <td>0</td>\n",
       "      <td>239</td>\n",
       "      <td>22</td>\n",
       "      <td>8</td>\n",
       "      <td>87000.0</td>\n",
       "    </tr>\n",
       "  </tbody>\n",
       "</table>\n",
       "</div>"
      ],
      "text/plain": [
       "           brand  model  transmission  color  body_type  poster_type  \\\n",
       "CAR000001      7    180             1     10          6            1   \n",
       "CAR000002      7    146             1      4          5            0   \n",
       "CAR000003      7    441             1     10          6            1   \n",
       "CAR000004      7    441             1     21          6            1   \n",
       "CAR000005      7    146             1     10          5            0   \n",
       "\n",
       "           fuel_type  location  post_age_in_days  age_of_car  mileage_in_km  \n",
       "CAR000001          2       303                16           7        60000.0  \n",
       "CAR000002          0       254                15           3        10388.0  \n",
       "CAR000003          2       328                20           1         6000.0  \n",
       "CAR000004          2       328                20           3         6000.0  \n",
       "CAR000005          0       239                22           8        87000.0  "
      ]
     },
     "execution_count": 35,
     "metadata": {},
     "output_type": "execute_result"
    }
   ],
   "source": [
    "X.head()"
   ]
  },
  {
   "cell_type": "code",
   "execution_count": 36,
   "metadata": {},
   "outputs": [],
   "source": [
    "dec_tree=tree.DecisionTreeRegressor(min_samples_split=3, min_samples_leaf=5,max_depth=10,random_state=4)"
   ]
  },
  {
   "cell_type": "code",
   "execution_count": 37,
   "metadata": {},
   "outputs": [
    {
     "name": "stdout",
     "output_type": "stream",
     "text": [
      "0.2871719482913246\n"
     ]
    }
   ],
   "source": [
    "print(np.mean(cross_val_score(dec_tree,X,y,cv=5)))"
   ]
  },
  {
   "cell_type": "code",
   "execution_count": 38,
   "metadata": {},
   "outputs": [],
   "source": [
    "y_log=np.log(y)"
   ]
  },
  {
   "cell_type": "code",
   "execution_count": 39,
   "metadata": {},
   "outputs": [
    {
     "data": {
      "text/plain": [
       "((15059, 11), (5020, 11), (15059,), (5020,))"
      ]
     },
     "execution_count": 39,
     "metadata": {},
     "output_type": "execute_result"
    }
   ],
   "source": [
    "X_train, X_test, y_log_train, y_log_test = train_test_split(X, y_log, test_size=0.25,random_state=4)\n",
    "X_train.shape,X_test.shape,y_log_train.shape,y_log_test.shape"
   ]
  },
  {
   "cell_type": "code",
   "execution_count": 40,
   "metadata": {},
   "outputs": [
    {
     "data": {
      "text/plain": [
       "DecisionTreeRegressor(criterion='mse', max_depth=10, max_features=None,\n",
       "                      max_leaf_nodes=None, min_impurity_decrease=0.0,\n",
       "                      min_impurity_split=None, min_samples_leaf=5,\n",
       "                      min_samples_split=3, min_weight_fraction_leaf=0.0,\n",
       "                      presort=False, random_state=4, splitter='best')"
      ]
     },
     "execution_count": 40,
     "metadata": {},
     "output_type": "execute_result"
    }
   ],
   "source": [
    "dec_tree.fit(X_train,y_log_train)"
   ]
  },
  {
   "cell_type": "code",
   "execution_count": 41,
   "metadata": {},
   "outputs": [],
   "source": [
    "y_pred=dec_tree.predict(X_test)"
   ]
  },
  {
   "cell_type": "code",
   "execution_count": 42,
   "metadata": {},
   "outputs": [
    {
     "data": {
      "text/plain": [
       "Text(0, 0.5, 'Predictions')"
      ]
     },
     "execution_count": 42,
     "metadata": {},
     "output_type": "execute_result"
    },
    {
     "data": {
      "image/png": "[encoded data removed]",
      "text/plain": [
       "<Figure size 432x288 with 1 Axes>"
      ]
     },
     "metadata": {
      "needs_background": "light"
     },
     "output_type": "display_data"
    }
   ],
   "source": [
    "sns.scatterplot(y_log_test,y_pred)\n",
    "plt.xlabel('True Values')\n",
    "plt.ylabel('Predictions')"
   ]
  },
  {
   "cell_type": "code",
   "execution_count": 43,
   "metadata": {},
   "outputs": [
    {
     "data": {
      "text/html": [
       "<div>\n",
       "<style scoped>\n",
       "    .dataframe tbody tr th:only-of-type {\n",
       "        vertical-align: middle;\n",
       "    }\n",
       "\n",
       "    .dataframe tbody tr th {\n",
       "        vertical-align: top;\n",
       "    }\n",
       "\n",
       "    .dataframe thead th {\n",
       "        text-align: right;\n",
       "    }\n",
       "</style>\n",
       "<table border=\"1\" class=\"dataframe\">\n",
       "  <thead>\n",
       "    <tr style=\"text-align: right;\">\n",
       "      <th></th>\n",
       "      <th>price</th>\n",
       "      <th>brand</th>\n",
       "      <th>model</th>\n",
       "      <th>transmission</th>\n",
       "      <th>color</th>\n",
       "      <th>body_type</th>\n",
       "      <th>poster_type</th>\n",
       "      <th>fuel_type</th>\n",
       "      <th>location</th>\n",
       "      <th>post_age_in_days</th>\n",
       "      <th>age_of_car</th>\n",
       "      <th>mileage_in_km</th>\n",
       "    </tr>\n",
       "  </thead>\n",
       "  <tbody>\n",
       "    <tr>\n",
       "      <th>CAR000001</th>\n",
       "      <td>299000</td>\n",
       "      <td>7</td>\n",
       "      <td>180</td>\n",
       "      <td>1</td>\n",
       "      <td>10</td>\n",
       "      <td>6</td>\n",
       "      <td>1</td>\n",
       "      <td>2</td>\n",
       "      <td>303</td>\n",
       "      <td>16</td>\n",
       "      <td>7</td>\n",
       "      <td>60000.0</td>\n",
       "    </tr>\n",
       "    <tr>\n",
       "      <th>CAR000002</th>\n",
       "      <td>828000</td>\n",
       "      <td>7</td>\n",
       "      <td>146</td>\n",
       "      <td>1</td>\n",
       "      <td>4</td>\n",
       "      <td>5</td>\n",
       "      <td>0</td>\n",
       "      <td>0</td>\n",
       "      <td>254</td>\n",
       "      <td>15</td>\n",
       "      <td>3</td>\n",
       "      <td>10388.0</td>\n",
       "    </tr>\n",
       "    <tr>\n",
       "      <th>CAR000003</th>\n",
       "      <td>450000</td>\n",
       "      <td>7</td>\n",
       "      <td>441</td>\n",
       "      <td>1</td>\n",
       "      <td>10</td>\n",
       "      <td>6</td>\n",
       "      <td>1</td>\n",
       "      <td>2</td>\n",
       "      <td>328</td>\n",
       "      <td>20</td>\n",
       "      <td>1</td>\n",
       "      <td>6000.0</td>\n",
       "    </tr>\n",
       "    <tr>\n",
       "      <th>CAR000004</th>\n",
       "      <td>450000</td>\n",
       "      <td>7</td>\n",
       "      <td>441</td>\n",
       "      <td>1</td>\n",
       "      <td>21</td>\n",
       "      <td>6</td>\n",
       "      <td>1</td>\n",
       "      <td>2</td>\n",
       "      <td>328</td>\n",
       "      <td>20</td>\n",
       "      <td>3</td>\n",
       "      <td>6000.0</td>\n",
       "    </tr>\n",
       "    <tr>\n",
       "      <th>CAR000005</th>\n",
       "      <td>468000</td>\n",
       "      <td>7</td>\n",
       "      <td>146</td>\n",
       "      <td>1</td>\n",
       "      <td>10</td>\n",
       "      <td>5</td>\n",
       "      <td>0</td>\n",
       "      <td>0</td>\n",
       "      <td>239</td>\n",
       "      <td>22</td>\n",
       "      <td>8</td>\n",
       "      <td>87000.0</td>\n",
       "    </tr>\n",
       "  </tbody>\n",
       "</table>\n",
       "</div>"
      ],
      "text/plain": [
       "            price  brand  model  transmission  color  body_type  poster_type  \\\n",
       "CAR000001  299000      7    180             1     10          6            1   \n",
       "CAR000002  828000      7    146             1      4          5            0   \n",
       "CAR000003  450000      7    441             1     10          6            1   \n",
       "CAR000004  450000      7    441             1     21          6            1   \n",
       "CAR000005  468000      7    146             1     10          5            0   \n",
       "\n",
       "           fuel_type  location  post_age_in_days  age_of_car  mileage_in_km  \n",
       "CAR000001          2       303                16           7        60000.0  \n",
       "CAR000002          0       254                15           3        10388.0  \n",
       "CAR000003          2       328                20           1         6000.0  \n",
       "CAR000004          2       328                20           3         6000.0  \n",
       "CAR000005          0       239                22           8        87000.0  "
      ]
     },
     "execution_count": 43,
     "metadata": {},
     "output_type": "execute_result"
    }
   ],
   "source": [
    "final_df.head()"
   ]
  },
  {
   "cell_type": "code",
   "execution_count": 44,
   "metadata": {},
   "outputs": [],
   "source": [
    "Xnew=[[23,132,1,2,3,1,2,121,40,4,4500]]"
   ]
  },
  {
   "cell_type": "code",
   "execution_count": 45,
   "metadata": {},
   "outputs": [],
   "source": [
    "ynew_pred=dec_tree.predict(Xnew)"
   ]
  },
  {
   "cell_type": "code",
   "execution_count": 46,
   "metadata": {
    "scrolled": true
   },
   "outputs": [
    {
     "data": {
      "text/plain": [
       "array([13.44492107])"
      ]
     },
     "execution_count": 46,
     "metadata": {},
     "output_type": "execute_result"
    }
   ],
   "source": [
    "ynew_pred"
   ]
  },
  {
   "cell_type": "code",
   "execution_count": 47,
   "metadata": {},
   "outputs": [
    {
     "data": {
      "text/plain": [
       "Index(['brand', 'model', 'transmission', 'color', 'body_type', 'poster_type',\n",
       "       'fuel_type', 'location', 'post_age_in_days', 'age_of_car',\n",
       "       'mileage_in_km'],\n",
       "      dtype='object')"
      ]
     },
     "execution_count": 47,
     "metadata": {},
     "output_type": "execute_result"
    }
   ],
   "source": [
    "feature='price'\n",
    "indepvar=final_df.drop('price',axis=1).columns\n",
    "indepvar"
   ]
  },
  {
   "cell_type": "code",
   "execution_count": 48,
   "metadata": {},
   "outputs": [],
   "source": [
    "# #print out the nodes\n",
    "# import graphviz\n",
    "# dot_data = tree.export_graphviz(dec_tree,out_file=None,feature_names=indepvar.tolist(),class_names='price')\n",
    "# graph = graphviz.Source(dot_data)\n",
    "# graph"
   ]
  },
  {
   "cell_type": "code",
   "execution_count": 49,
   "metadata": {},
   "outputs": [],
   "source": [
    "f_importance = dec_tree.feature_importances_\n",
    "f_list=X_train.columns\n",
    "df_feature_importance=pd.DataFrame(f_importance,columns=['importance'],index=f_list).sort_values(['importance'],ascending=False)"
   ]
  },
  {
   "cell_type": "code",
   "execution_count": 50,
   "metadata": {},
   "outputs": [
    {
     "data": {
      "text/html": [
       "<div>\n",
       "<style scoped>\n",
       "    .dataframe tbody tr th:only-of-type {\n",
       "        vertical-align: middle;\n",
       "    }\n",
       "\n",
       "    .dataframe tbody tr th {\n",
       "        vertical-align: top;\n",
       "    }\n",
       "\n",
       "    .dataframe thead th {\n",
       "        text-align: right;\n",
       "    }\n",
       "</style>\n",
       "<table border=\"1\" class=\"dataframe\">\n",
       "  <thead>\n",
       "    <tr style=\"text-align: right;\">\n",
       "      <th></th>\n",
       "      <th>importance</th>\n",
       "    </tr>\n",
       "  </thead>\n",
       "  <tbody>\n",
       "    <tr>\n",
       "      <th>age_of_car</th>\n",
       "      <td>0.413785</td>\n",
       "    </tr>\n",
       "    <tr>\n",
       "      <th>body_type</th>\n",
       "      <td>0.126290</td>\n",
       "    </tr>\n",
       "    <tr>\n",
       "      <th>model</th>\n",
       "      <td>0.117427</td>\n",
       "    </tr>\n",
       "    <tr>\n",
       "      <th>mileage_in_km</th>\n",
       "      <td>0.102641</td>\n",
       "    </tr>\n",
       "    <tr>\n",
       "      <th>brand</th>\n",
       "      <td>0.083594</td>\n",
       "    </tr>\n",
       "    <tr>\n",
       "      <th>fuel_type</th>\n",
       "      <td>0.065890</td>\n",
       "    </tr>\n",
       "    <tr>\n",
       "      <th>transmission</th>\n",
       "      <td>0.062247</td>\n",
       "    </tr>\n",
       "    <tr>\n",
       "      <th>post_age_in_days</th>\n",
       "      <td>0.011622</td>\n",
       "    </tr>\n",
       "    <tr>\n",
       "      <th>color</th>\n",
       "      <td>0.006837</td>\n",
       "    </tr>\n",
       "    <tr>\n",
       "      <th>location</th>\n",
       "      <td>0.006831</td>\n",
       "    </tr>\n",
       "    <tr>\n",
       "      <th>poster_type</th>\n",
       "      <td>0.002836</td>\n",
       "    </tr>\n",
       "  </tbody>\n",
       "</table>\n",
       "</div>"
      ],
      "text/plain": [
       "                  importance\n",
       "age_of_car          0.413785\n",
       "body_type           0.126290\n",
       "model               0.117427\n",
       "mileage_in_km       0.102641\n",
       "brand               0.083594\n",
       "fuel_type           0.065890\n",
       "transmission        0.062247\n",
       "post_age_in_days    0.011622\n",
       "color               0.006837\n",
       "location            0.006831\n",
       "poster_type         0.002836"
      ]
     },
     "execution_count": 50,
     "metadata": {},
     "output_type": "execute_result"
    }
   ],
   "source": [
    "df_feature_importance"
   ]
  },
  {
   "cell_type": "markdown",
   "metadata": {},
   "source": [
    "## Now that we have an idea on how the tree splits, let's try Random Forest"
   ]
  },
  {
   "cell_type": "code",
   "execution_count": 51,
   "metadata": {},
   "outputs": [],
   "source": [
    "from sklearn.ensemble import RandomForestRegressor"
   ]
  },
  {
   "cell_type": "code",
   "execution_count": 52,
   "metadata": {},
   "outputs": [],
   "source": [
    "rf = RandomForestRegressor(n_estimators=400,max_features=0.9157035175944501,min_samples_leaf=1,min_samples_split=5,oob_score=True,random_state=4)"
   ]
  },
  {
   "cell_type": "code",
   "execution_count": 53,
   "metadata": {},
   "outputs": [
    {
     "data": {
      "text/plain": [
       "RandomForestRegressor(bootstrap=True, criterion='mse', max_depth=None,\n",
       "                      max_features=0.9157035175944501, max_leaf_nodes=None,\n",
       "                      min_impurity_decrease=0.0, min_impurity_split=None,\n",
       "                      min_samples_leaf=1, min_samples_split=5,\n",
       "                      min_weight_fraction_leaf=0.0, n_estimators=400,\n",
       "                      n_jobs=None, oob_score=True, random_state=4, verbose=0,\n",
       "                      warm_start=False)"
      ]
     },
     "execution_count": 53,
     "metadata": {},
     "output_type": "execute_result"
    }
   ],
   "source": [
    "rf.fit(X, y_log)"
   ]
  },
  {
   "cell_type": "code",
   "execution_count": 54,
   "metadata": {},
   "outputs": [
    {
     "data": {
      "text/plain": [
       "array([291023.14092657, 502377.07908199, 277302.93610752, ...,\n",
       "       523468.89930969, 618244.27525542, 553845.62835635])"
      ]
     },
     "execution_count": 54,
     "metadata": {},
     "output_type": "execute_result"
    }
   ],
   "source": [
    "y_pred=rf.predict(X_test)\n",
    "np.exp(y_pred)"
   ]
  },
  {
   "cell_type": "code",
   "execution_count": null,
   "metadata": {},
   "outputs": [],
   "source": [
    "# dep_pred['dep_price']=X_test['retail']-(X_test['retail']/30*X_test['age_of_car'])"
   ]
  },
  {
   "cell_type": "code",
   "execution_count": 56,
   "metadata": {},
   "outputs": [
    {
     "data": {
      "text/plain": [
       "Text(0, 0.5, 'Predictions')"
      ]
     },
     "execution_count": 56,
     "metadata": {},
     "output_type": "execute_result"
    },
    {
     "data": {
      "image/png": "[encoded data removed]",
      "text/plain": [
       "<Figure size 432x288 with 1 Axes>"
      ]
     },
     "metadata": {
      "needs_background": "light"
     },
     "output_type": "display_data"
    }
   ],
   "source": [
    "sns.scatterplot(y_log,rf.oob_prediction_)\n",
    "plt.xlabel('True Values')\n",
    "plt.ylabel('Predictions')"
   ]
  },
  {
   "cell_type": "code",
   "execution_count": 57,
   "metadata": {},
   "outputs": [
    {
     "data": {
      "text/plain": [
       "0.8173756073584515"
      ]
     },
     "execution_count": 57,
     "metadata": {},
     "output_type": "execute_result"
    }
   ],
   "source": [
    "rf.oob_score_"
   ]
  },
  {
   "cell_type": "code",
   "execution_count": 58,
   "metadata": {},
   "outputs": [],
   "source": [
    "f_list=X.columns\n",
    "df_fi = pd.DataFrame(rf.feature_importances_,index=f_list,columns=['importance']).sort_values(['importance'],ascending=False)"
   ]
  },
  {
   "cell_type": "code",
   "execution_count": 59,
   "metadata": {},
   "outputs": [
    {
     "data": {
      "text/plain": [
       "0.726460402678696"
      ]
     },
     "execution_count": 59,
     "metadata": {},
     "output_type": "execute_result"
    }
   ],
   "source": [
    "np.mean(cross_val_score(rf,X,y_log,cv=5))"
   ]
  },
  {
   "cell_type": "code",
   "execution_count": 60,
   "metadata": {
    "scrolled": true
   },
   "outputs": [
    {
     "data": {
      "text/html": [
       "<div>\n",
       "<style scoped>\n",
       "    .dataframe tbody tr th:only-of-type {\n",
       "        vertical-align: middle;\n",
       "    }\n",
       "\n",
       "    .dataframe tbody tr th {\n",
       "        vertical-align: top;\n",
       "    }\n",
       "\n",
       "    .dataframe thead th {\n",
       "        text-align: right;\n",
       "    }\n",
       "</style>\n",
       "<table border=\"1\" class=\"dataframe\">\n",
       "  <thead>\n",
       "    <tr style=\"text-align: right;\">\n",
       "      <th></th>\n",
       "      <th>importance</th>\n",
       "    </tr>\n",
       "  </thead>\n",
       "  <tbody>\n",
       "    <tr>\n",
       "      <th>age_of_car</th>\n",
       "      <td>0.324822</td>\n",
       "    </tr>\n",
       "    <tr>\n",
       "      <th>body_type</th>\n",
       "      <td>0.140828</td>\n",
       "    </tr>\n",
       "    <tr>\n",
       "      <th>model</th>\n",
       "      <td>0.139787</td>\n",
       "    </tr>\n",
       "    <tr>\n",
       "      <th>mileage_in_km</th>\n",
       "      <td>0.118954</td>\n",
       "    </tr>\n",
       "    <tr>\n",
       "      <th>brand</th>\n",
       "      <td>0.079826</td>\n",
       "    </tr>\n",
       "    <tr>\n",
       "      <th>fuel_type</th>\n",
       "      <td>0.060705</td>\n",
       "    </tr>\n",
       "    <tr>\n",
       "      <th>transmission</th>\n",
       "      <td>0.043437</td>\n",
       "    </tr>\n",
       "    <tr>\n",
       "      <th>post_age_in_days</th>\n",
       "      <td>0.034570</td>\n",
       "    </tr>\n",
       "    <tr>\n",
       "      <th>location</th>\n",
       "      <td>0.031468</td>\n",
       "    </tr>\n",
       "    <tr>\n",
       "      <th>color</th>\n",
       "      <td>0.018199</td>\n",
       "    </tr>\n",
       "    <tr>\n",
       "      <th>poster_type</th>\n",
       "      <td>0.007404</td>\n",
       "    </tr>\n",
       "  </tbody>\n",
       "</table>\n",
       "</div>"
      ],
      "text/plain": [
       "                  importance\n",
       "age_of_car          0.324822\n",
       "body_type           0.140828\n",
       "model               0.139787\n",
       "mileage_in_km       0.118954\n",
       "brand               0.079826\n",
       "fuel_type           0.060705\n",
       "transmission        0.043437\n",
       "post_age_in_days    0.034570\n",
       "location            0.031468\n",
       "color               0.018199\n",
       "poster_type         0.007404"
      ]
     },
     "execution_count": 60,
     "metadata": {},
     "output_type": "execute_result"
    }
   ],
   "source": [
    "df_fi"
   ]
  },
  {
   "cell_type": "code",
   "execution_count": 61,
   "metadata": {},
   "outputs": [],
   "source": [
    "dep_df=final_df[['price','age_of_car']].copy()\n",
    "dep_df=dep_df[dep_df['age_of_car']<=30]\n",
    "dep_df['price']=np.log(dep_df['price'])"
   ]
  },
  {
   "cell_type": "code",
   "execution_count": 62,
   "metadata": {},
   "outputs": [
    {
     "ename": "NameError",
     "evalue": "name 'dep_pred' is not defined",
     "output_type": "error",
     "traceback": [
      "\u001b[1;31m---------------------------------------------------------------------------\u001b[0m",
      "\u001b[1;31mNameError\u001b[0m                                 Traceback (most recent call last)",
      "\u001b[1;32m<ipython-input-62-084f843263a9>\u001b[0m in \u001b[0;36m<module>\u001b[1;34m\u001b[0m\n\u001b[0;32m      1\u001b[0m \u001b[0mplt\u001b[0m\u001b[1;33m.\u001b[0m\u001b[0mfigure\u001b[0m\u001b[1;33m(\u001b[0m\u001b[0mfigsize\u001b[0m\u001b[1;33m=\u001b[0m\u001b[1;33m(\u001b[0m\u001b[1;36m14\u001b[0m\u001b[1;33m,\u001b[0m\u001b[1;36m8\u001b[0m\u001b[1;33m)\u001b[0m\u001b[1;33m)\u001b[0m\u001b[1;33m\u001b[0m\u001b[1;33m\u001b[0m\u001b[0m\n\u001b[1;32m----> 2\u001b[1;33m \u001b[0msns\u001b[0m\u001b[1;33m.\u001b[0m\u001b[0mregplot\u001b[0m\u001b[1;33m(\u001b[0m\u001b[0mnp\u001b[0m\u001b[1;33m.\u001b[0m\u001b[0mexp\u001b[0m\u001b[1;33m(\u001b[0m\u001b[0my_pred\u001b[0m\u001b[1;33m)\u001b[0m\u001b[1;33m,\u001b[0m\u001b[0mdep_pred\u001b[0m\u001b[1;33m[\u001b[0m\u001b[1;34m'dep_price'\u001b[0m\u001b[1;33m]\u001b[0m\u001b[1;33m)\u001b[0m\u001b[1;33m\u001b[0m\u001b[1;33m\u001b[0m\u001b[0m\n\u001b[0m\u001b[0;32m      3\u001b[0m \u001b[0mplt\u001b[0m\u001b[1;33m.\u001b[0m\u001b[0mxlabel\u001b[0m\u001b[1;33m(\u001b[0m\u001b[1;34m'Model'\u001b[0m\u001b[1;33m)\u001b[0m\u001b[1;33m\u001b[0m\u001b[1;33m\u001b[0m\u001b[0m\n\u001b[0;32m      4\u001b[0m \u001b[0mplt\u001b[0m\u001b[1;33m.\u001b[0m\u001b[0mylabel\u001b[0m\u001b[1;33m(\u001b[0m\u001b[1;34m'Straightline'\u001b[0m\u001b[1;33m)\u001b[0m\u001b[1;33m\u001b[0m\u001b[1;33m\u001b[0m\u001b[0m\n\u001b[0;32m      5\u001b[0m \u001b[0mplt\u001b[0m\u001b[1;33m.\u001b[0m\u001b[0mtitle\u001b[0m\u001b[1;33m(\u001b[0m\u001b[1;34m'Our model vs Straight-line depreciation'\u001b[0m\u001b[1;33m)\u001b[0m\u001b[1;33m\u001b[0m\u001b[1;33m\u001b[0m\u001b[0m\n",
      "\u001b[1;31mNameError\u001b[0m: name 'dep_pred' is not defined"
     ]
    },
    {
     "data": {
      "text/plain": [
       "<Figure size 1008x576 with 0 Axes>"
      ]
     },
     "metadata": {},
     "output_type": "display_data"
    }
   ],
   "source": [
    "plt.figure(figsize=(14,8))\n",
    "sns.regplot(np.exp(y_pred),dep_pred['dep_price'])\n",
    "plt.xlabel('Model')\n",
    "plt.ylabel('Straightline')\n",
    "plt.title('Our model vs Straight-line depreciation')"
   ]
  },
  {
   "cell_type": "markdown",
   "metadata": {},
   "source": [
    "## Cost it out"
   ]
  },
  {
   "cell_type": "code",
   "execution_count": null,
   "metadata": {},
   "outputs": [],
   "source": [
    "pred=rf.predict(inputs)\n",
    "np.exp(pred)"
   ]
  },
  {
   "cell_type": "markdown",
   "metadata": {},
   "source": [
    "## Time for XGBoost y'all!"
   ]
  },
  {
   "cell_type": "code",
   "execution_count": null,
   "metadata": {},
   "outputs": [],
   "source": [
    "from xgboost.sklearn import XGBRegressor"
   ]
  },
  {
   "cell_type": "code",
   "execution_count": null,
   "metadata": {},
   "outputs": [],
   "source": []
  }
 ],
 "metadata": {
  "kernelspec": {
   "display_name": "Python 3",
   "language": "python",
   "name": "python3"
  },
  "language_info": {
   "codemirror_mode": {
    "name": "ipython",
    "version": 3
   },
   "file_extension": ".py",
   "mimetype": "text/x-python",
   "name": "python",
   "nbconvert_exporter": "python",
   "pygments_lexer": "ipython3",
   "version": "3.7.3"
  }
 },
 "nbformat": 4,
 "nbformat_minor": 2
}
