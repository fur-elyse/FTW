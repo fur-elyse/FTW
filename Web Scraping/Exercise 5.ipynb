{
 "cells": [
  {
   "cell_type": "code",
   "execution_count": 15,
   "metadata": {},
   "outputs": [],
   "source": [
    "from selenium import webdriver\n",
    "from selenium.webdriver.support.ui import WebDriverWait\n",
    "from selenium.webdriver.support import expected_conditions as EC\n",
    "from selenium.webdriver.common.by import By\n",
    "from selenium.common.exceptions import TimeoutException\n",
    "import os\n",
    "import pymysql"
   ]
  },
  {
   "cell_type": "code",
   "execution_count": 16,
   "metadata": {},
   "outputs": [
    {
     "data": {
      "text/plain": [
       "0"
      ]
     },
     "execution_count": 16,
     "metadata": {},
     "output_type": "execute_result"
    }
   ],
   "source": [
    "conn = pymysql.connect(host='127.0.0.1',user='root', passwd = 'MySQL', db = 'mysql',\n",
    "charset = 'utf8')\n",
    "cur = conn.cursor()\n",
    "cur.execute(\"USE scraperdb\")"
   ]
  },
  {
   "cell_type": "code",
   "execution_count": 17,
   "metadata": {},
   "outputs": [],
   "source": [
    "def store(id, date, stars, title, content):\n",
    "    # finish this mysql query\n",
    "   cur.execute('INSERT INTO reviews (reviewId, title, stars, reviewDate, content) VALUES ''(\"%s\",\"%s\",\"%s\",\"%s\",\"%s\")',(id,title,stars,date,content))\n",
    "   cur.connection.commit()"
   ]
  },
  {
   "cell_type": "code",
   "execution_count": 18,
   "metadata": {},
   "outputs": [
    {
     "name": "stdout",
     "output_type": "stream",
     "text": [
      "Path to Driver is C:\\Users\\COBENA\\Desktop\\Learn\\Code\\FTW\\Web Scraping/chromedriver\n"
     ]
    }
   ],
   "source": [
    "dirpath = os.getcwd()\n",
    "filepath = dirpath + '/chromedriver'\n",
    "print('Path to Driver is '+filepath)\n",
    "browser = webdriver.Chrome(executable_path=filepath)\n",
    "browser.get('https://www.amazon.com/Citizen-Womens-Eco-Drive-Stainless-EW1568-04A/dp/B009G6XVSC/')"
   ]
  },
  {
   "cell_type": "code",
   "execution_count": 19,
   "metadata": {},
   "outputs": [
    {
     "name": "stdout",
     "output_type": "stream",
     "text": [
      "R1SV9WIFEXLXPA\n",
      "Elegant Watch.\n",
      "December 11, 2014\n",
      "5.0 out of 5 stars\n",
      "This is an elegant watch, the hands are dark blue as beautiful as the sea around Saipan Island. I got compliment from everyone who saw it.\n",
      "#############\n",
      "RGC874D8FFJCF\n",
      "Elegant Watch.\n",
      "February 14, 2018\n",
      "5.0 out of 5 stars\n",
      "This is an elegant watch, the hands are dark blue as beautiful as the sea around Saipan Island. I got compliment from everyone who saw it.\n",
      "#############\n",
      "R3QDNY256NLLAP\n",
      "Elegant Watch.\n",
      "January 25, 2018\n",
      "5.0 out of 5 stars\n",
      "This is an elegant watch, the hands are dark blue as beautiful as the sea around Saipan Island. I got compliment from everyone who saw it.\n",
      "#############\n"
     ]
    }
   ],
   "source": [
    "try:\n",
    "    element = WebDriverWait(browser,5).until(\n",
    "        EC.presence_of_element_located((By.XPATH,'//*[@id=\"nav-main\"]/div[1]/div[2]/div/div[3]/span[1]/span/input')))\n",
    "    \n",
    "    element.click()\n",
    "    \n",
    "    element = WebDriverWait(browser,5).until(\n",
    "        EC.presence_of_element_located((By.XPATH,'//*[@id=\"acrCustomerReviewText\"]')))#//*[@id=\"reviews-medley-footer\"]/div[2]/a\n",
    "    \n",
    "    element.click()\n",
    "    \n",
    "    #reviews element\n",
    "    reviewsElement = WebDriverWait(browser,5).until(\n",
    "        EC.presence_of_element_located((By.XPATH,'//*[@id=\"cm-cr-dp-review-list\"]')))#//*[@id=\"cm_cr-review_list\"]\n",
    "    \n",
    "    reviewsChildren = reviewsElement.find_elements_by_class_name('aok-relative')\n",
    "    for review in reviewsChildren:\n",
    "        reviewId = review.get_attribute('id')\n",
    "        date = review.find_element_by_class_name('review-date').get_attribute('innerHTML')\n",
    "        stars = review.find_element_by_class_name('a-link-normal').get_attribute('title')\n",
    "        title = review.find_element_by_xpath('//*[@id=\"customer_review-R1SV9WIFEXLXPA\"]/div[2]/a[2]/span').get_attribute('innerHTML')#.//div[2]/a[2]/span\n",
    "        reviewContent = review.find_element_by_xpath('//*[@id=\"customer_review-R1SV9WIFEXLXPA\"]/div[4]/span/div/div[1]/span').get_attribute('innerHTML')#.//div[4]/span/div/div[1]/span\n",
    "        print(reviewId)\n",
    "        print(title)\n",
    "        print(date)\n",
    "        print(stars)\n",
    "        print(reviewContent)\n",
    "        print('#############')\n",
    "        store(reviewId,date,stars,title,reviewContent)\n",
    "    \n",
    "    \n",
    "except TimeoutException:\n",
    "    print('failed to load element')\n",
    "    \n",
    "finally:\n",
    "    browser.quit()"
   ]
  },
  {
   "cell_type": "code",
   "execution_count": null,
   "metadata": {},
   "outputs": [],
   "source": []
  }
 ],
 "metadata": {
  "kernelspec": {
   "display_name": "Python 2",
   "language": "python",
   "name": "python2"
  },
  "language_info": {
   "codemirror_mode": {
    "name": "ipython",
    "version": 2
   },
   "file_extension": ".py",
   "mimetype": "text/x-python",
   "name": "python",
   "nbconvert_exporter": "python",
   "pygments_lexer": "ipython2",
   "version": "2.7.15"
  }
 },
 "nbformat": 4,
 "nbformat_minor": 2
}
