{
 "cells": [
  {
   "cell_type": "markdown",
   "metadata": {},
   "source": [
    "The two datasets are related to red and white variants of the Portuguese \"Vinho Verde\" wine. For more details, consult the reference [Cortez et al., 2009]. Due to privacy and logistic issues, only physicochemical (inputs) and sensory (the output) variables are available (e.g. there is no data about grape types, wine brand, wine selling price, etc.).\n",
    "\n",
    "Input variables (based on physicochemical tests):\n",
    "1 - fixed acidity \n",
    "2 - volatile acidity \n",
    "3 - citric acid \n",
    "4 - residual sugar \n",
    "5 - chlorides \n",
    "6 - free sulfur dio \n",
    "7 - total sulfur dioxide \n",
    "8 - density \n",
    "9 - pH \n",
    "\n",
    "\n",
    "r2, RMSE, and MAE of your model\n",
    "See if you can improve the model using lasso regression, what alpha gives best results?\n",
    "See if you can improve the model using ridge regression, what alpha gives best results?\n",
    "Any other way to improve the results?\n"
   ]
  },
  {
   "cell_type": "code",
   "execution_count": 1,
   "metadata": {},
   "outputs": [],
   "source": [
    "import numpy as np\n",
    "import pandas as pd\n",
    "import matplotlib.pyplot as plt\n",
    "import seaborn as sns\n",
    "sns.set_style(\"whitegrid\")\n",
    "sns.set_context(\"poster\")\n",
    "\n",
    "%matplotlib inline"
   ]
  },
  {
   "cell_type": "code",
   "execution_count": 2,
   "metadata": {},
   "outputs": [],
   "source": [
    "from sklearn.preprocessing import PolynomialFeatures\n",
    "from sklearn.linear_model import LinearRegression, Lasso, Ridge\n",
    "from sklearn.model_selection import train_test_split\n",
    "from sklearn.metrics import r2_score, mean_absolute_error, mean_squared_error\n",
    "from sklearn.pipeline import make_pipeline"
   ]
  },
  {
   "cell_type": "code",
   "execution_count": 3,
   "metadata": {},
   "outputs": [],
   "source": [
    "df_wine=pd.read_csv('winequality-red.csv')"
   ]
  },
  {
   "cell_type": "code",
   "execution_count": 4,
   "metadata": {},
   "outputs": [
    {
     "data": {
      "text/html": [
       "<div>\n",
       "<style scoped>\n",
       "    .dataframe tbody tr th:only-of-type {\n",
       "        vertical-align: middle;\n",
       "    }\n",
       "\n",
       "    .dataframe tbody tr th {\n",
       "        vertical-align: top;\n",
       "    }\n",
       "\n",
       "    .dataframe thead th {\n",
       "        text-align: right;\n",
       "    }\n",
       "</style>\n",
       "<table border=\"1\" class=\"dataframe\">\n",
       "  <thead>\n",
       "    <tr style=\"text-align: right;\">\n",
       "      <th></th>\n",
       "      <th>fixed acidity</th>\n",
       "      <th>volatile acidity</th>\n",
       "      <th>citric acid</th>\n",
       "      <th>residual sugar</th>\n",
       "      <th>chlorides</th>\n",
       "      <th>free sulfur dioxide</th>\n",
       "      <th>total sulfur dioxide</th>\n",
       "      <th>density</th>\n",
       "      <th>pH</th>\n",
       "      <th>sulphates</th>\n",
       "      <th>alcohol</th>\n",
       "      <th>quality</th>\n",
       "    </tr>\n",
       "  </thead>\n",
       "  <tbody>\n",
       "    <tr>\n",
       "      <th>0</th>\n",
       "      <td>7.4</td>\n",
       "      <td>0.70</td>\n",
       "      <td>0.00</td>\n",
       "      <td>1.9</td>\n",
       "      <td>0.076</td>\n",
       "      <td>11.0</td>\n",
       "      <td>34.0</td>\n",
       "      <td>0.9978</td>\n",
       "      <td>3.51</td>\n",
       "      <td>0.56</td>\n",
       "      <td>9.4</td>\n",
       "      <td>5</td>\n",
       "    </tr>\n",
       "    <tr>\n",
       "      <th>1</th>\n",
       "      <td>7.8</td>\n",
       "      <td>0.88</td>\n",
       "      <td>0.00</td>\n",
       "      <td>2.6</td>\n",
       "      <td>0.098</td>\n",
       "      <td>25.0</td>\n",
       "      <td>67.0</td>\n",
       "      <td>0.9968</td>\n",
       "      <td>3.20</td>\n",
       "      <td>0.68</td>\n",
       "      <td>9.8</td>\n",
       "      <td>5</td>\n",
       "    </tr>\n",
       "    <tr>\n",
       "      <th>2</th>\n",
       "      <td>7.8</td>\n",
       "      <td>0.76</td>\n",
       "      <td>0.04</td>\n",
       "      <td>2.3</td>\n",
       "      <td>0.092</td>\n",
       "      <td>15.0</td>\n",
       "      <td>54.0</td>\n",
       "      <td>0.9970</td>\n",
       "      <td>3.26</td>\n",
       "      <td>0.65</td>\n",
       "      <td>9.8</td>\n",
       "      <td>5</td>\n",
       "    </tr>\n",
       "    <tr>\n",
       "      <th>3</th>\n",
       "      <td>11.2</td>\n",
       "      <td>0.28</td>\n",
       "      <td>0.56</td>\n",
       "      <td>1.9</td>\n",
       "      <td>0.075</td>\n",
       "      <td>17.0</td>\n",
       "      <td>60.0</td>\n",
       "      <td>0.9980</td>\n",
       "      <td>3.16</td>\n",
       "      <td>0.58</td>\n",
       "      <td>9.8</td>\n",
       "      <td>6</td>\n",
       "    </tr>\n",
       "    <tr>\n",
       "      <th>4</th>\n",
       "      <td>7.4</td>\n",
       "      <td>0.70</td>\n",
       "      <td>0.00</td>\n",
       "      <td>1.9</td>\n",
       "      <td>0.076</td>\n",
       "      <td>11.0</td>\n",
       "      <td>34.0</td>\n",
       "      <td>0.9978</td>\n",
       "      <td>3.51</td>\n",
       "      <td>0.56</td>\n",
       "      <td>9.4</td>\n",
       "      <td>5</td>\n",
       "    </tr>\n",
       "  </tbody>\n",
       "</table>\n",
       "</div>"
      ],
      "text/plain": [
       "   fixed acidity  volatile acidity  citric acid  residual sugar  chlorides  \\\n",
       "0            7.4              0.70         0.00             1.9      0.076   \n",
       "1            7.8              0.88         0.00             2.6      0.098   \n",
       "2            7.8              0.76         0.04             2.3      0.092   \n",
       "3           11.2              0.28         0.56             1.9      0.075   \n",
       "4            7.4              0.70         0.00             1.9      0.076   \n",
       "\n",
       "   free sulfur dioxide  total sulfur dioxide  density    pH  sulphates  \\\n",
       "0                 11.0                  34.0   0.9978  3.51       0.56   \n",
       "1                 25.0                  67.0   0.9968  3.20       0.68   \n",
       "2                 15.0                  54.0   0.9970  3.26       0.65   \n",
       "3                 17.0                  60.0   0.9980  3.16       0.58   \n",
       "4                 11.0                  34.0   0.9978  3.51       0.56   \n",
       "\n",
       "   alcohol  quality  \n",
       "0      9.4        5  \n",
       "1      9.8        5  \n",
       "2      9.8        5  \n",
       "3      9.8        6  \n",
       "4      9.4        5  "
      ]
     },
     "execution_count": 4,
     "metadata": {},
     "output_type": "execute_result"
    }
   ],
   "source": [
    "df_wine.head()"
   ]
  },
  {
   "cell_type": "code",
   "execution_count": 24,
   "metadata": {},
   "outputs": [],
   "source": [
    "df_train, df_test = train_test_split(df_wine,test_size=0.30, random_state=30)\n",
    "y_alc_train = df_train['alcohol']\n",
    "x_train = df_train[['fixed acidity','volatile acidity','citric acid','residual sugar','chlorides','free sulfur dioxide','total sulfur dioxide','density','pH']]\n",
    "\n",
    "y_alc_test = df_test['alcohol']\n",
    "x_test = df_test[['fixed acidity','volatile acidity','citric acid','residual sugar','chlorides','free sulfur dioxide','total sulfur dioxide','density','pH']]\n",
    "\n",
    "alc_linreg = LinearRegression()"
   ]
  },
  {
   "cell_type": "code",
   "execution_count": 25,
   "metadata": {},
   "outputs": [
    {
     "data": {
      "text/plain": [
       "LinearRegression(copy_X=True, fit_intercept=True, n_jobs=None,\n",
       "         normalize=False)"
      ]
     },
     "execution_count": 25,
     "metadata": {},
     "output_type": "execute_result"
    }
   ],
   "source": [
    "alc_linreg.fit(x_train,y_alc_train)"
   ]
  },
  {
   "cell_type": "code",
   "execution_count": 26,
   "metadata": {},
   "outputs": [],
   "source": [
    "y_alc_predict = alc_linreg.predict(x_test)"
   ]
  },
  {
   "cell_type": "code",
   "execution_count": 37,
   "metadata": {},
   "outputs": [],
   "source": [
    "def meas_perf(name,actual,predicted):\n",
    "    r2_name = r2_score(actual, predicted) * 100\n",
    "    mae_name = mean_absolute_error(actual, predicted)\n",
    "    mse_name = mean_squared_error(actual, predicted) \n",
    "    rmse_name = np.sqrt(mean_squared_error(actual, predicted))\n",
    "    \n",
    "    print((\"r2_%s: %.2f\") %(name, r2_name))\n",
    "    print((\"mae_%s: %.2f\") %(name, mae_name))\n",
    "    print((\"mse_%s: %.2f\") %(name, mse_name))\n",
    "    print((\"rmse_%s: %.2f\") %(name, rmse_name))"
   ]
  },
  {
   "cell_type": "code",
   "execution_count": 39,
   "metadata": {},
   "outputs": [
    {
     "name": "stdout",
     "output_type": "stream",
     "text": [
      "r2_alcohol_linreg: 63.71\n",
      "mae_alcohol_linreg: 0.51\n",
      "mse_alcohol_linreg: 0.44\n",
      "rmse_alcohol_linreg: 0.67\n"
     ]
    }
   ],
   "source": [
    "meas_perf('alcohol_linreg',y_alc_test,y_alc_predict)"
   ]
  },
  {
   "cell_type": "code",
   "execution_count": 40,
   "metadata": {},
   "outputs": [
    {
     "name": "stdout",
     "output_type": "stream",
     "text": [
      "r2_quality_linreg: 25.61\n",
      "mae_quality_linreg: 0.56\n",
      "mse_quality_linreg: 0.50\n",
      "rmse_quality_linreg: 0.71\n"
     ]
    }
   ],
   "source": [
    "df_train, df_test = train_test_split(df_wine,test_size=0.30, random_state=30)\n",
    "y_qual_train = df_train['quality']\n",
    "x_train = df_train[['fixed acidity','volatile acidity','citric acid','residual sugar','chlorides','free sulfur dioxide','total sulfur dioxide','density','pH']]\n",
    "\n",
    "y_qual_test = df_test['quality']\n",
    "x_test = df_test[['fixed acidity','volatile acidity','citric acid','residual sugar','chlorides','free sulfur dioxide','total sulfur dioxide','density','pH']]\n",
    "\n",
    "qual_linreg = LinearRegression()\n",
    "qual_linreg.fit(x_train,y_qual_train)\n",
    "y_qual_predict = qual_linreg.predict(x_test)\n",
    "\n",
    "meas_perf('quality_linreg',y_qual_test,y_qual_predict)"
   ]
  },
  {
   "cell_type": "code",
   "execution_count": 42,
   "metadata": {},
   "outputs": [
    {
     "name": "stdout",
     "output_type": "stream",
     "text": [
      "r2_sulphates_linreg: 32.29\n",
      "mae_sulphates_linreg: 0.10\n",
      "mse_sulphates_linreg: 0.02\n",
      "rmse_sulphates_linreg: 0.14\n"
     ]
    }
   ],
   "source": [
    "df_train, df_test = train_test_split(df_wine,test_size=0.30, random_state=30)\n",
    "y_sul_train = df_train['sulphates']\n",
    "x_train = df_train[['fixed acidity','volatile acidity','citric acid','residual sugar','chlorides','free sulfur dioxide','total sulfur dioxide','density','pH']]\n",
    "\n",
    "y_sul_test = df_test['sulphates']\n",
    "x_test = df_test[['fixed acidity','volatile acidity','citric acid','residual sugar','chlorides','free sulfur dioxide','total sulfur dioxide','density','pH']]\n",
    "\n",
    "sul_linreg = LinearRegression()\n",
    "sul_linreg.fit(x_train,y_sul_train)\n",
    "y_sul_predict = sul_linreg.predict(x_test)\n",
    "\n",
    "meas_perf('sulphates_linreg',y_sul_test,y_sul_predict)"
   ]
  },
  {
   "cell_type": "code",
   "execution_count": 55,
   "metadata": {},
   "outputs": [
    {
     "name": "stdout",
     "output_type": "stream",
     "text": [
      "alpha_alc:  0.99\n",
      "r2_alc: 11.043444558375814\n"
     ]
    }
   ],
   "source": [
    "r2score=0\n",
    "for alpha in range(1,100,1):\n",
    "    alpha=alpha/100\n",
    "    alc_lasso = Lasso(alpha=alpha,random_state=30)\n",
    "    alc_lasso.fit(x_train, y_alc_train)\n",
    "    alc_lasso_predict = alc_lasso.predict(x_test)\n",
    "    r2=r2_score(y_alc_test,alc_lasso_predict)*100\n",
    "    if r2>r2score:\n",
    "        r2score=r2\n",
    "    else:\n",
    "        continue\n",
    "print('lasso_alpha_alc: ',alpha)\n",
    "print('lasso_r2_alc:',r2score)"
   ]
  },
  {
   "cell_type": "code",
   "execution_count": 53,
   "metadata": {},
   "outputs": [
    {
     "name": "stdout",
     "output_type": "stream",
     "text": [
      "alpha_qual:  0.99\n",
      "r2_qual: 16.473556827837776\n"
     ]
    }
   ],
   "source": [
    "r2score=0\n",
    "for alpha in range(1,100,1):\n",
    "    alpha=alpha/100\n",
    "    qual_lasso = Lasso(alpha=alpha,random_state=30)\n",
    "    qual_lasso.fit(x_train, y_qual_train)\n",
    "    qual_lasso_predict = qual_lasso.predict(x_test)\n",
    "    r2=r2_score(y_qual_test,qual_lasso_predict)*100\n",
    "    if r2>r2score:\n",
    "        r2score=r2\n",
    "    else:\n",
    "        continue\n",
    "print('lasso_alpha_qual: ',alpha)\n",
    "print('lasso_r2_qual:',r2score)"
   ]
  },
  {
   "cell_type": "code",
   "execution_count": 54,
   "metadata": {},
   "outputs": [
    {
     "name": "stdout",
     "output_type": "stream",
     "text": [
      "alpha_sul:  0.99\n",
      "r2_sul: 3.83067953408075\n"
     ]
    }
   ],
   "source": [
    "r2score=0\n",
    "for alpha in range(1,100,1):\n",
    "    alpha=alpha/100\n",
    "    sul_lasso = Lasso(alpha=alpha,random_state=30)\n",
    "    sul_lasso.fit(x_train, y_sul_train)\n",
    "    sul_lasso_predict = sul_lasso.predict(x_test)\n",
    "    r2=r2_score(y_sul_test,sul_lasso_predict)*100\n",
    "    if r2>r2score:\n",
    "        r2score=r2\n",
    "    else:\n",
    "        continue\n",
    "print('lasso_alpha_sul: ',alpha)\n",
    "print('lasso_r2_sul:',r2score)"
   ]
  },
  {
   "cell_type": "code",
   "execution_count": 58,
   "metadata": {},
   "outputs": [
    {
     "name": "stdout",
     "output_type": "stream",
     "text": [
      "ridge_alpha_qual:  0.99\n",
      "ridge_r2_qual: 19.839077929978156\n"
     ]
    }
   ],
   "source": [
    "r2score=0\n",
    "for alpha in range(1,100,1):\n",
    "    alpha=alpha/100\n",
    "    qual_ridge = Ridge(alpha=alpha,random_state=30)\n",
    "    qual_ridge.fit(x_train, y_qual_train)\n",
    "    qual_ridge_predict = qual_ridge.predict(x_test)\n",
    "    r2=r2_score(y_qual_test,qual_ridge_predict)*100\n",
    "    if r2>r2score:\n",
    "        r2score=r2\n",
    "    else:\n",
    "        continue\n",
    "print('ridge_alpha_qual: ',alpha)\n",
    "print('ridge_r2_qual:',r2score)"
   ]
  },
  {
   "cell_type": "code",
   "execution_count": null,
   "metadata": {},
   "outputs": [],
   "source": [
    "#4. Any other way to improve the results?\n",
    "\"\"\"Use a polynomial model. independent variables should consider duration and not just chemical content. Consider removing outliers\"\"\""
   ]
  }
 ],
 "metadata": {
  "kernelspec": {
   "display_name": "Python 3",
   "language": "python",
   "name": "python3"
  },
  "language_info": {
   "codemirror_mode": {
    "name": "ipython",
    "version": 3
   },
   "file_extension": ".py",
   "mimetype": "text/x-python",
   "name": "python",
   "nbconvert_exporter": "python",
   "pygments_lexer": "ipython3",
   "version": "3.7.1"
  }
 },
 "nbformat": 4,
 "nbformat_minor": 2
}
