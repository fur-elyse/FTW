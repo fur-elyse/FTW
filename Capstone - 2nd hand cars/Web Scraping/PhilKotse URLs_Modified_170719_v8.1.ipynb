{
 "cells": [
  {
   "cell_type": "code",
   "execution_count": 1,
   "metadata": {},
   "outputs": [],
   "source": [
    "from selenium import webdriver\n",
    "from selenium.webdriver.support.ui import WebDriverWait\n",
    "from selenium.webdriver.support import expected_conditions as EC\n",
    "from selenium.webdriver.common.by import By\n",
    "from selenium.common.exceptions import TimeoutException, NoSuchElementException\n",
    "from selenium.webdriver.common.keys import Keys\n",
    "from time import sleep\n",
    "from selenium.webdriver import ActionChains\n",
    "\n",
    "import os\n",
    "import pandas as pd"
   ]
  },
  {
   "cell_type": "code",
   "execution_count": 2,
   "metadata": {},
   "outputs": [
    {
     "name": "stdout",
     "output_type": "stream",
     "text": [
      "Path to Driver:  C:\\Users\\COBENA\\Desktop\\Learn\\Code\\FTW\\Capstone Idea\\Automotive/chromedriver\n"
     ]
    }
   ],
   "source": [
    "##### Creating the Dataframe #####\n",
    "\n",
    "### Create empty dataframe\n",
    "df = pd.DataFrame()\n",
    "\n",
    "\n",
    "##### Chromedriver #####\n",
    "\n",
    "dirpath = os.getcwd()\n",
    "filepath = dirpath + '/chromedriver'\n",
    "print ('Path to Driver: ', filepath)\n"
   ]
  },
  {
   "cell_type": "code",
   "execution_count": 36,
   "metadata": {
    "scrolled": true
   },
   "outputs": [
    {
     "name": "stdout",
     "output_type": "stream",
     "text": [
      "##########################################\n",
      "mercedes-benz\n",
      "Page 1\n",
      "Page 2\n"
     ]
    },
    {
     "ename": "KeyboardInterrupt",
     "evalue": "",
     "output_type": "error",
     "traceback": [
      "\u001b[1;31m---------------------------------------------------------------------------\u001b[0m",
      "\u001b[1;31mKeyboardInterrupt\u001b[0m                         Traceback (most recent call last)",
      "\u001b[1;32m<ipython-input-36-4d796d465d2f>\u001b[0m in \u001b[0;36m<module>\u001b[1;34m\u001b[0m\n\u001b[0;32m     23\u001b[0m \u001b[1;33m\u001b[0m\u001b[0m\n\u001b[0;32m     24\u001b[0m         \u001b[1;32mtry\u001b[0m\u001b[1;33m:\u001b[0m\u001b[1;33m\u001b[0m\u001b[1;33m\u001b[0m\u001b[0m\n\u001b[1;32m---> 25\u001b[1;33m             \u001b[0mnextPage\u001b[0m \u001b[1;33m=\u001b[0m \u001b[0mWebDriverWait\u001b[0m\u001b[1;33m(\u001b[0m\u001b[0mbrowser\u001b[0m\u001b[1;33m,\u001b[0m \u001b[1;36m2\u001b[0m\u001b[1;33m)\u001b[0m\u001b[1;33m.\u001b[0m\u001b[0muntil\u001b[0m\u001b[1;33m(\u001b[0m\u001b[0mEC\u001b[0m\u001b[1;33m.\u001b[0m\u001b[0mpresence_of_element_located\u001b[0m\u001b[1;33m(\u001b[0m\u001b[1;33m(\u001b[0m\u001b[0mBy\u001b[0m\u001b[1;33m.\u001b[0m\u001b[0mXPATH\u001b[0m\u001b[1;33m,\u001b[0m \u001b[1;34m'//*[@id=\"product_page\"]/div[2]/div[2]/ul/li[6]/a'\u001b[0m\u001b[1;33m)\u001b[0m\u001b[1;33m)\u001b[0m\u001b[1;33m)\u001b[0m\u001b[1;33m\u001b[0m\u001b[1;33m\u001b[0m\u001b[0m\n\u001b[0m\u001b[0;32m     26\u001b[0m             \u001b[0mnextPage\u001b[0m\u001b[1;33m.\u001b[0m\u001b[0mclick\u001b[0m\u001b[1;33m(\u001b[0m\u001b[1;33m)\u001b[0m\u001b[1;33m\u001b[0m\u001b[1;33m\u001b[0m\u001b[0m\n\u001b[0;32m     27\u001b[0m             \u001b[0mprint\u001b[0m\u001b[1;33m(\u001b[0m\u001b[1;34m\"Page\"\u001b[0m\u001b[1;33m,\u001b[0m\u001b[0mPageCont\u001b[0m\u001b[1;33m)\u001b[0m\u001b[1;33m\u001b[0m\u001b[1;33m\u001b[0m\u001b[0m\n",
      "\u001b[1;32m~\\Anaconda3\\envs\\Capstone\\lib\\site-packages\\selenium\\webdriver\\support\\wait.py\u001b[0m in \u001b[0;36muntil\u001b[1;34m(self, method, message)\u001b[0m\n\u001b[0;32m     75\u001b[0m                 \u001b[0mscreen\u001b[0m \u001b[1;33m=\u001b[0m \u001b[0mgetattr\u001b[0m\u001b[1;33m(\u001b[0m\u001b[0mexc\u001b[0m\u001b[1;33m,\u001b[0m \u001b[1;34m'screen'\u001b[0m\u001b[1;33m,\u001b[0m \u001b[1;32mNone\u001b[0m\u001b[1;33m)\u001b[0m\u001b[1;33m\u001b[0m\u001b[1;33m\u001b[0m\u001b[0m\n\u001b[0;32m     76\u001b[0m                 \u001b[0mstacktrace\u001b[0m \u001b[1;33m=\u001b[0m \u001b[0mgetattr\u001b[0m\u001b[1;33m(\u001b[0m\u001b[0mexc\u001b[0m\u001b[1;33m,\u001b[0m \u001b[1;34m'stacktrace'\u001b[0m\u001b[1;33m,\u001b[0m \u001b[1;32mNone\u001b[0m\u001b[1;33m)\u001b[0m\u001b[1;33m\u001b[0m\u001b[1;33m\u001b[0m\u001b[0m\n\u001b[1;32m---> 77\u001b[1;33m             \u001b[0mtime\u001b[0m\u001b[1;33m.\u001b[0m\u001b[0msleep\u001b[0m\u001b[1;33m(\u001b[0m\u001b[0mself\u001b[0m\u001b[1;33m.\u001b[0m\u001b[0m_poll\u001b[0m\u001b[1;33m)\u001b[0m\u001b[1;33m\u001b[0m\u001b[1;33m\u001b[0m\u001b[0m\n\u001b[0m\u001b[0;32m     78\u001b[0m             \u001b[1;32mif\u001b[0m \u001b[0mtime\u001b[0m\u001b[1;33m.\u001b[0m\u001b[0mtime\u001b[0m\u001b[1;33m(\u001b[0m\u001b[1;33m)\u001b[0m \u001b[1;33m>\u001b[0m \u001b[0mend_time\u001b[0m\u001b[1;33m:\u001b[0m\u001b[1;33m\u001b[0m\u001b[1;33m\u001b[0m\u001b[0m\n\u001b[0;32m     79\u001b[0m                 \u001b[1;32mbreak\u001b[0m\u001b[1;33m\u001b[0m\u001b[1;33m\u001b[0m\u001b[0m\n",
      "\u001b[1;31mKeyboardInterrupt\u001b[0m: "
     ]
    }
   ],
   "source": [
    "filepath='C:\\\\Users\\\\COBENA\\\\Desktop\\\\Learn\\\\Code\\\\FTW\\\\Capstone Idea\\\\Automotive/chromedriver'\n",
    "browser = webdriver.Chrome(executable_path = filepath)\n",
    "brands=['mercedes-benz','audi','jeep','volkswagen','lexus','honda','porsche']#'ssangyong','toyota','mitsubishi','hyundai','ford','nissan','kia','isuzu','suzuki','mazda','chevrolet','bmw','subaru',\n",
    "for b in brands:\n",
    "    df = pd.DataFrame()\n",
    "    wpg = \"https://philkotse.com/\" + b + \"-for-sale\"\n",
    "    print (\"\"\"##########################################\"\"\")\n",
    "    print (b)\n",
    "#     print (wpg)\n",
    "    browser.get(wpg)\n",
    "    FinalPage=1000\n",
    "    PageCont=1\n",
    "    while PageCont<=FinalPage:\n",
    "        try:\n",
    "            for li in range(1,22):\n",
    "                webPage = WebDriverWait(browser,5).until(EC.presence_of_element_located((By.XPATH,'/html/body/div/div[3]/div/div/div/div[2]/ul/li['+str(li)+']/div/div[2]/h2/a'))).get_attribute('href')\n",
    "#                 print(webPage)\n",
    "#                 new_entry = {'webPage' : webPage}\n",
    "                df = df.append({'webPage':webPage,'brand':b}, ignore_index=True)\n",
    "        except Exception as e:\n",
    "            print(\"Page\",PageCont)\n",
    "            PageCont=FinalPage+1\n",
    "    \n",
    "        try:\n",
    "            nextPage = WebDriverWait(browser, 2).until(EC.presence_of_element_located((By.XPATH, '//*[@id=\"product_page\"]/div[2]/div[2]/ul/li[6]/a')))\n",
    "            nextPage.click()\n",
    "            print(\"Page\",PageCont)\n",
    "            PageCont+=1\n",
    "        except Exception as e:\n",
    "            try:\n",
    "                page2 = WebDriverWait(browser, 2).until(EC.presence_of_element_located((By.XPATH,'//*[@id=\"product_page\"]/div[2]/div[2]/ul/li['+str(PageCont+1)+']')))\n",
    "                page2.click()\n",
    "                print(\"Page\",PageCont)\n",
    "                PageCont+=1\n",
    "            except:\n",
    "                print('End of Page',PageCont)\n",
    "    try:\n",
    "        savepath = \"C:\\\\Users\\\\COBENA\\\\Desktop\\\\Learn\\\\Code\\\\FTW\\\\Capstone Idea\\\\Automotive\\\\philkotse_car_brand-\" + b + \".csv\"\n",
    "        print (\"End of\", b)\n",
    "        philkotse = df.to_csv(savepath, index=None, header=False)\n",
    "\n",
    "    except Exception as e:\n",
    "        print (\"Export exception:\", e)\n",
    "            \n",
    "browser.quit()\n",
    "print(\"Finished scraping. Browser closed\")\n"
   ]
  },
  {
   "cell_type": "code",
   "execution_count": null,
   "metadata": {},
   "outputs": [],
   "source": []
  }
 ],
 "metadata": {
  "kernelspec": {
   "display_name": "Python 3",
   "language": "python",
   "name": "python3"
  },
  "language_info": {
   "codemirror_mode": {
    "name": "ipython",
    "version": 3
   },
   "file_extension": ".py",
   "mimetype": "text/x-python",
   "name": "python",
   "nbconvert_exporter": "python",
   "pygments_lexer": "ipython3",
   "version": "3.7.3"
  }
 },
 "nbformat": 4,
 "nbformat_minor": 2
}
